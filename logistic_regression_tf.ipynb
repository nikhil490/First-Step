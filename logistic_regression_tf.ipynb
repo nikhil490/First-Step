{
  "nbformat": 4,
  "nbformat_minor": 0,
  "metadata": {
    "colab": {
      "name": "logistic_regression_tf.ipynb",
      "provenance": [],
      "collapsed_sections": []
    },
    "kernelspec": {
      "name": "python3",
      "display_name": "Python 3"
    }
  },
  "cells": [
    {
      "cell_type": "code",
      "metadata": {
        "id": "3oKp-FEvNwBM",
        "colab_type": "code",
        "colab": {}
      },
      "source": [
        "import tensorflow as tf"
      ],
      "execution_count": 0,
      "outputs": []
    },
    {
      "cell_type": "code",
      "metadata": {
        "id": "dIL0j0RzN4pm",
        "colab_type": "code",
        "colab": {}
      },
      "source": [
        "import warnings\n",
        "warnings.filterwarnings(\"ignore\")"
      ],
      "execution_count": 0,
      "outputs": []
    },
    {
      "cell_type": "code",
      "metadata": {
        "id": "Izdc07TZOMdK",
        "colab_type": "code",
        "outputId": "f666a637-572b-45ed-c25d-d26f065e0cf9",
        "colab": {
          "base_uri": "https://localhost:8080/",
          "height": 35
        }
      },
      "source": [
        "print(tf.__version__)"
      ],
      "execution_count": 0,
      "outputs": [
        {
          "output_type": "stream",
          "text": [
            "1.15.0\n"
          ],
          "name": "stdout"
        }
      ]
    },
    {
      "cell_type": "code",
      "metadata": {
        "id": "Jvd1I1TmOTYh",
        "colab_type": "code",
        "outputId": "2b2ae3fb-6852-4ad7-f6ec-7e4c6957b873",
        "colab": {
          "base_uri": "https://localhost:8080/",
          "height": 35
        }
      },
      "source": [
        "graph1 = tf.Graph()\n",
        "type(graph1)"
      ],
      "execution_count": 0,
      "outputs": [
        {
          "output_type": "execute_result",
          "data": {
            "text/plain": [
              "tensorflow.python.framework.ops.Graph"
            ]
          },
          "metadata": {
            "tags": []
          },
          "execution_count": 10
        }
      ]
    },
    {
      "cell_type": "code",
      "metadata": {
        "id": "QWJnraR7OrFj",
        "colab_type": "code",
        "outputId": "388c19ea-890d-412b-885d-2195366f1d8d",
        "colab": {
          "base_uri": "https://localhost:8080/",
          "height": 52
        }
      },
      "source": [
        "with graph1.as_default():\n",
        "  a = tf.constant([3])\n",
        "  b = tf.constant([4])\n",
        "\n",
        "type(a),type(b)"
      ],
      "execution_count": 0,
      "outputs": [
        {
          "output_type": "execute_result",
          "data": {
            "text/plain": [
              "(tensorflow.python.framework.ops.Tensor,\n",
              " tensorflow.python.framework.ops.Tensor)"
            ]
          },
          "metadata": {
            "tags": []
          },
          "execution_count": 11
        }
      ]
    },
    {
      "cell_type": "code",
      "metadata": {
        "id": "LvhzWYAcPE-i",
        "colab_type": "code",
        "outputId": "0bf9ffe8-c65a-4d81-da81-5111a03ff26b",
        "colab": {
          "base_uri": "https://localhost:8080/",
          "height": 35
        }
      },
      "source": [
        "with tf.Session(graph=graph1) as sess:\n",
        "  a = sess.run(a)\n",
        "  b = sess.run(b)\n",
        "  c = tf.add(a,b)\n",
        "  result = sess.run(c)\n",
        "  print(f'a = {a} + b = {b} = result = {result}')\n",
        "  "
      ],
      "execution_count": 0,
      "outputs": [
        {
          "output_type": "stream",
          "text": [
            "a = [3] + b = [4] = result = [7]\n"
          ],
          "name": "stdout"
        }
      ]
    },
    {
      "cell_type": "code",
      "metadata": {
        "id": "yGHrD9gsP3Qf",
        "colab_type": "code",
        "outputId": "fdbd5ec9-909c-4156-ad9a-37d8392382cb",
        "colab": {
          "base_uri": "https://localhost:8080/",
          "height": 364
        }
      },
      "source": [
        "graph2 = tf.Graph()\n",
        "with graph2.as_default():\n",
        "    scalar = tf.constant(3)\n",
        "    vector = tf.constant([3,4,3])\n",
        "    matrix = tf.constant([[2,4,7],[4,6,9],[5,1,0]])\n",
        "    tensor = tf.constant([  [[3,1,3],[1,2,3],[9,4,3]], [[1,2,1],[3,1,1],[9,5,4]], [[4,1,9],[6,3,6],[7,7,8]] ])\n",
        "\n",
        "t_list = [scalar,vector,matrix,tensor]\n",
        "with tf.Session(graph = graph2) as sess:\n",
        "    for i in t_list:\n",
        "      result = sess.run(i)\n",
        "      print(f' {result} and shape = {i.shape}\\n')"
      ],
      "execution_count": 0,
      "outputs": [
        {
          "output_type": "stream",
          "text": [
            " 3 and shape = ()\n",
            "\n",
            " [3 4 3] and shape = (3,)\n",
            "\n",
            " [[2 4 7]\n",
            " [4 6 9]\n",
            " [5 1 0]] and shape = (3, 3)\n",
            "\n",
            " [[[3 1 3]\n",
            "  [1 2 3]\n",
            "  [9 4 3]]\n",
            "\n",
            " [[1 2 1]\n",
            "  [3 1 1]\n",
            "  [9 5 4]]\n",
            "\n",
            " [[4 1 9]\n",
            "  [6 3 6]\n",
            "  [7 7 8]]] and shape = (3, 3, 3)\n",
            "\n"
          ],
          "name": "stdout"
        }
      ]
    },
    {
      "cell_type": "code",
      "metadata": {
        "id": "n2JEa8u8Qs_d",
        "colab_type": "code",
        "outputId": "907b595b-4d06-48a4-b37b-cc365f753b8c",
        "colab": {
          "base_uri": "https://localhost:8080/",
          "height": 225
        }
      },
      "source": [
        "graph3 = tf.Graph()\n",
        "with graph3.as_default():\n",
        "  matrix_1 = tf.constant([[2,3,4],[1,3,4],[4,5,7]])\n",
        "  matrix_2 = tf.constant([[9,4,2],[1,5,2],[9,0,4]])\n",
        "\n",
        "  addition_1 = tf.add(matrix_1,matrix_2)\n",
        "  addition_2 = matrix_1 + matrix_2\n",
        "\n",
        "with tf.Session(graph = graph3) as sess:\n",
        "  print(f' first inputs are : {sess.run(matrix_1)}')\n",
        "  print(f' second inputs are : {sess.run(matrix_2)}')\n",
        "  print(f' tf addition : ({sess.run(addition_1)})')\n",
        "  print(f' normal addition : {sess.run(addition_2)}')"
      ],
      "execution_count": 0,
      "outputs": [
        {
          "output_type": "stream",
          "text": [
            " first inputs are : [[2 3 4]\n",
            " [1 3 4]\n",
            " [4 5 7]]\n",
            " second inputs are : [[9 4 2]\n",
            " [1 5 2]\n",
            " [9 0 4]]\n",
            " tf addition : ([[11  7  6]\n",
            " [ 2  8  6]\n",
            " [13  5 11]])\n",
            " normal addition : [[11  7  6]\n",
            " [ 2  8  6]\n",
            " [13  5 11]]\n"
          ],
          "name": "stdout"
        }
      ]
    },
    {
      "cell_type": "code",
      "metadata": {
        "id": "cDAYTU0mTL5V",
        "colab_type": "code",
        "outputId": "e1da62b3-21bf-4771-c997-fd82c4c5f153",
        "colab": {
          "base_uri": "https://localhost:8080/",
          "height": 69
        }
      },
      "source": [
        "graph4 = tf.Graph()\n",
        "with graph4.as_default():\n",
        "  matrix_1 = tf.constant([[2,3,4],[1,3,4]])\n",
        "  matrix_2 = tf.constant([[9,4],[1,5],[9,0]])\n",
        "  matrix_mul = tf.matmul(matrix_1,matrix_2)\n",
        "\n",
        "with tf.Session(graph= graph4) as sess:\n",
        "  sess.run(matrix_1)\n",
        "  sess.run(matrix_2)\n",
        "  print(f' Matrix Multiplication using tf.matmul : \\n result = {sess.run(matrix_mul)}')"
      ],
      "execution_count": 0,
      "outputs": [
        {
          "output_type": "stream",
          "text": [
            " Matrix Multiplication using tf.matmul : \n",
            " result = [[57 23]\n",
            " [48 19]]\n"
          ],
          "name": "stdout"
        }
      ]
    },
    {
      "cell_type": "markdown",
      "metadata": {
        "id": "iAZjenO-UxAV",
        "colab_type": "text"
      },
      "source": [
        "# Variables\n",
        "\n"
      ]
    },
    {
      "cell_type": "code",
      "metadata": {
        "id": "1S3sAssSUWqo",
        "colab_type": "code",
        "colab": {}
      },
      "source": [
        "# define variable\n",
        "v = tf.Variable(0)"
      ],
      "execution_count": 0,
      "outputs": []
    },
    {
      "cell_type": "code",
      "metadata": {
        "id": "-7r7n5FPVGaM",
        "colab_type": "code",
        "colab": {}
      },
      "source": [
        "# assign value to the variable\n",
        "update = tf.assign(v,v+1)"
      ],
      "execution_count": 0,
      "outputs": []
    },
    {
      "cell_type": "code",
      "metadata": {
        "id": "K1_4ropEVLoA",
        "colab_type": "code",
        "colab": {}
      },
      "source": [
        "# add initialization variable to the graph\n",
        "init_op = tf.global_variables_initializer()"
      ],
      "execution_count": 0,
      "outputs": []
    },
    {
      "cell_type": "code",
      "metadata": {
        "id": "qXnxtMX3VoKi",
        "colab_type": "code",
        "outputId": "0c4b2312-5f2d-4b40-d4c4-101344e255ca",
        "colab": {
          "base_uri": "https://localhost:8080/",
          "height": 104
        }
      },
      "source": [
        "with tf.Session() as sess:\n",
        "  sess.run(init_op)\n",
        "  print(f'initial value of the variable {sess.run(v)} \\n')\n",
        "  for i in range(3):\n",
        "    sess.run(update)\n",
        "    print(f'Updated value after {i}th iteration : {sess.run(v)}')"
      ],
      "execution_count": 0,
      "outputs": [
        {
          "output_type": "stream",
          "text": [
            "initial value of the variable 0 \n",
            "\n",
            "Updated value after 0th iteration : 1\n",
            "Updated value after 1th iteration : 2\n",
            "Updated value after 2th iteration : 3\n"
          ],
          "name": "stdout"
        }
      ]
    },
    {
      "cell_type": "markdown",
      "metadata": {
        "id": "-C9S5LcwWu-_",
        "colab_type": "text"
      },
      "source": [
        "# Placeholders\n"
      ]
    },
    {
      "cell_type": "code",
      "metadata": {
        "id": "4IilqRakWq_U",
        "colab_type": "code",
        "outputId": "28c65e61-1aef-45fe-c0e6-54b27802e342",
        "colab": {
          "base_uri": "https://localhost:8080/",
          "height": 35
        }
      },
      "source": [
        "a = tf.placeholder(tf.float32)\n",
        "a"
      ],
      "execution_count": 38,
      "outputs": [
        {
          "output_type": "execute_result",
          "data": {
            "text/plain": [
              "<tf.Tensor 'Placeholder_2:0' shape=<unknown> dtype=float32>"
            ]
          },
          "metadata": {
            "tags": []
          },
          "execution_count": 38
        }
      ]
    },
    {
      "cell_type": "code",
      "metadata": {
        "id": "9z6flsrUW6X4",
        "colab_type": "code",
        "outputId": "05b1b49e-6f85-4b82-9578-cefef4c52719",
        "colab": {
          "base_uri": "https://localhost:8080/",
          "height": 35
        }
      },
      "source": [
        "b = a * 2\n",
        "b"
      ],
      "execution_count": 39,
      "outputs": [
        {
          "output_type": "execute_result",
          "data": {
            "text/plain": [
              "<tf.Tensor 'mul_1:0' shape=<unknown> dtype=float32>"
            ]
          },
          "metadata": {
            "tags": []
          },
          "execution_count": 39
        }
      ]
    },
    {
      "cell_type": "code",
      "metadata": {
        "id": "2ahJWuZbXlHa",
        "colab_type": "code",
        "outputId": "2a5eed7c-c4a0-47e7-ee0d-66f11307c381",
        "colab": {
          "base_uri": "https://localhost:8080/",
          "height": 35
        }
      },
      "source": [
        "with tf.Session() as sess:\n",
        "  result = sess.run(b,feed_dict={a:3.5})\n",
        "  print(f' result : {c}')\n"
      ],
      "execution_count": 40,
      "outputs": [
        {
          "output_type": "stream",
          "text": [
            " result : 7.0\n"
          ],
          "name": "stdout"
        }
      ]
    },
    {
      "cell_type": "code",
      "metadata": {
        "id": "wqEY7I2CX6Y5",
        "colab_type": "code",
        "colab": {
          "base_uri": "https://localhost:8080/",
          "height": 139
        },
        "outputId": "8beacedf-ea90-4821-c504-55fa95bd2f10"
      },
      "source": [
        "dictionary = {a : [[[5,4,1],\n",
        "                    [1,0,9],\n",
        "                    [7,3,1]],\n",
        "                    [[3,1,4],\n",
        "                    [6,1,9],\n",
        "                    [1,8,7]\n",
        "                    ]]}\n",
        "with tf.Session() as sess:\n",
        "  result = sess.run(b,feed_dict = dictionary)\n",
        "  print(f' result : {result}')"
      ],
      "execution_count": 44,
      "outputs": [
        {
          "output_type": "stream",
          "text": [
            " result : [[[10.  8.  2.]\n",
            "  [ 2.  0. 18.]\n",
            "  [14.  6.  2.]]\n",
            "\n",
            " [[ 6.  2.  8.]\n",
            "  [12.  2. 18.]\n",
            "  [ 2. 16. 14.]]]\n"
          ],
          "name": "stdout"
        }
      ]
    },
    {
      "cell_type": "markdown",
      "metadata": {
        "id": "b3Lq_6BKadwI",
        "colab_type": "text"
      },
      "source": [
        "# Operations"
      ]
    },
    {
      "cell_type": "code",
      "metadata": {
        "id": "WRi_mSWRaWl3",
        "colab_type": "code",
        "colab": {
          "base_uri": "https://localhost:8080/",
          "height": 52
        },
        "outputId": "cf33f0a7-7129-4b00-ad74-fab98952b57a"
      },
      "source": [
        "graph5 = tf.Graph()\n",
        "\n",
        "with graph5.as_default():\n",
        "  i = tf.constant([9])\n",
        "  j = tf.constant([5])\n",
        "  k = tf.add(i,j)\n",
        "  l = tf.subtract(i,j)\n",
        "\n",
        "with tf.Session(graph= graph5) as sess:\n",
        "  sess.run(i)\n",
        "  sess.run(j)\n",
        "\n",
        "  print(f'addition : {sess.run(k)}\\nsubstraction : {sess.run(l)}')"
      ],
      "execution_count": 50,
      "outputs": [
        {
          "output_type": "stream",
          "text": [
            "addition : [14]\n",
            "substraction : [4]\n"
          ],
          "name": "stdout"
        }
      ]
    },
    {
      "cell_type": "markdown",
      "metadata": {
        "id": "K1sloDGzcry-",
        "colab_type": "text"
      },
      "source": [
        "# Linear Regression\n",
        "\n",
        "Equation of simple linear model : Y = aX + b"
      ]
    },
    {
      "cell_type": "code",
      "metadata": {
        "id": "JwBSYazFclQN",
        "colab_type": "code",
        "colab": {}
      },
      "source": [
        "# import required packeges\n",
        "import numpy as np\n",
        "import pandas as pd\n",
        "import pylab as pl\n",
        "import numpy as np\n",
        "import tensorflow as tf\n",
        "import matplotlib.patches as mpatches\n",
        "import matplotlib.pyplot as plt\n",
        "%matplotlib inline\n",
        "plt.rcParams['figure.figsize'] = (10, 6)"
      ],
      "execution_count": 0,
      "outputs": []
    },
    {
      "cell_type": "code",
      "metadata": {
        "id": "7JSRWn_vdN31",
        "colab_type": "code",
        "colab": {
          "base_uri": "https://localhost:8080/",
          "height": 87
        },
        "outputId": "d3f5cf47-debb-4320-e8db-c98e09b17a8e"
      },
      "source": [
        "X = np.arange(0.0,18.0,0.5)\n",
        "X"
      ],
      "execution_count": 54,
      "outputs": [
        {
          "output_type": "execute_result",
          "data": {
            "text/plain": [
              "array([ 0. ,  0.5,  1. ,  1.5,  2. ,  2.5,  3. ,  3.5,  4. ,  4.5,  5. ,\n",
              "        5.5,  6. ,  6.5,  7. ,  7.5,  8. ,  8.5,  9. ,  9.5, 10. , 10.5,\n",
              "       11. , 11.5, 12. , 12.5, 13. , 13.5, 14. , 14.5, 15. , 15.5, 16. ,\n",
              "       16.5, 17. , 17.5])"
            ]
          },
          "metadata": {
            "tags": []
          },
          "execution_count": 54
        }
      ]
    },
    {
      "cell_type": "code",
      "metadata": {
        "id": "Zckz8G1jd3Q4",
        "colab_type": "code",
        "colab": {
          "base_uri": "https://localhost:8080/",
          "height": 388
        },
        "outputId": "f271aa0b-2dc6-4e75-d846-dfbdda7f8b1e"
      },
      "source": [
        "a = 2 # slope change and try\n",
        "b = 8\n",
        "Y = a * X + b\n",
        "plt.plot(X,Y)\n",
        "plt.ylabel('Dependent Variable')\n",
        "plt.xlabel('Independent Variable')\n",
        "plt.show()"
      ],
      "execution_count": 60,
      "outputs": [
        {
          "output_type": "display_data",
          "data": {
            "image/png": "[encoded data removed]",
            "text/plain": [
              "<Figure size 720x432 with 1 Axes>"
            ]
          },
          "metadata": {
            "tags": []
          }
        }
      ]
    },
    {
      "cell_type": "code",
      "metadata": {
        "id": "UrdA9k9meycm",
        "colab_type": "code",
        "colab": {}
      },
      "source": [
        ""
      ],
      "execution_count": 0,
      "outputs": []
    },
    {
      "cell_type": "markdown",
      "metadata": {
        "id": "fmKYE9FifRCE",
        "colab_type": "text"
      },
      "source": [
        "# Linear Regression with TensorFlow"
      ]
    },
    {
      "cell_type": "code",
      "metadata": {
        "id": "aTHWHtlLm_r1",
        "colab_type": "code",
        "colab": {
          "base_uri": "https://localhost:8080/",
          "height": 69
        },
        "outputId": "0d226538-b5d1-4854-dd93-86100ba80e31"
      },
      "source": [
        "# Fetch a single <1MB file using the raw GitHub URL.\n",
        "!curl --remote-name \\\n",
        "     -H 'Accept: application/vnd.github.v3.raw' \\\n",
        "     --location https://raw.githubusercontent.com/nikhil490/First-Step/master/FuelConsumptionCo2.csv"
      ],
      "execution_count": 68,
      "outputs": [
        {
          "output_type": "stream",
          "text": [
            "  % Total    % Received % Xferd  Average Speed   Time    Time     Time  Current\n",
            "                                 Dload  Upload   Total   Spent    Left  Speed\n",
            "\r  0     0    0     0    0     0      0      0 --:--:-- --:--:-- --:--:--     0\r100 72629  100 72629    0     0   400k      0 --:--:-- --:--:-- --:--:--  400k\n"
          ],
          "name": "stdout"
        }
      ]
    },
    {
      "cell_type": "code",
      "metadata": {
        "id": "4wWTaVFOo1Im",
        "colab_type": "code",
        "colab": {}
      },
      "source": [
        "df = pd.read_csv('FuelConsumptionCo2.csv')"
      ],
      "execution_count": 0,
      "outputs": []
    },
    {
      "cell_type": "code",
      "metadata": {
        "id": "oaPtrtMxpIgq",
        "colab_type": "code",
        "colab": {
          "base_uri": "https://localhost:8080/",
          "height": 274
        },
        "outputId": "20dcd736-1c09-4edd-b548-456440c801e1"
      },
      "source": [
        "df.head()"
      ],
      "execution_count": 71,
      "outputs": [
        {
          "output_type": "execute_result",
          "data": {
            "text/html": [
              "<div>\n",
              "<style scoped>\n",
              "    .dataframe tbody tr th:only-of-type {\n",
              "        vertical-align: middle;\n",
              "    }\n",
              "\n",
              "    .dataframe tbody tr th {\n",
              "        vertical-align: top;\n",
              "    }\n",
              "\n",
              "    .dataframe thead th {\n",
              "        text-align: right;\n",
              "    }\n",
              "</style>\n",
              "<table border=\"1\" class=\"dataframe\">\n",
              "  <thead>\n",
              "    <tr style=\"text-align: right;\">\n",
              "      <th></th>\n",
              "      <th>MODELYEAR</th>\n",
              "      <th>MAKE</th>\n",
              "      <th>MODEL</th>\n",
              "      <th>VEHICLECLASS</th>\n",
              "      <th>ENGINESIZE</th>\n",
              "      <th>CYLINDERS</th>\n",
              "      <th>TRANSMISSION</th>\n",
              "      <th>FUELTYPE</th>\n",
              "      <th>FUELCONSUMPTION_CITY</th>\n",
              "      <th>FUELCONSUMPTION_HWY</th>\n",
              "      <th>FUELCONSUMPTION_COMB</th>\n",
              "      <th>FUELCONSUMPTION_COMB_MPG</th>\n",
              "      <th>CO2EMISSIONS</th>\n",
              "    </tr>\n",
              "  </thead>\n",
              "  <tbody>\n",
              "    <tr>\n",
              "      <th>0</th>\n",
              "      <td>2014</td>\n",
              "      <td>ACURA</td>\n",
              "      <td>ILX</td>\n",
              "      <td>COMPACT</td>\n",
              "      <td>2.0</td>\n",
              "      <td>4</td>\n",
              "      <td>AS5</td>\n",
              "      <td>Z</td>\n",
              "      <td>9.9</td>\n",
              "      <td>6.7</td>\n",
              "      <td>8.5</td>\n",
              "      <td>33</td>\n",
              "      <td>196</td>\n",
              "    </tr>\n",
              "    <tr>\n",
              "      <th>1</th>\n",
              "      <td>2014</td>\n",
              "      <td>ACURA</td>\n",
              "      <td>ILX</td>\n",
              "      <td>COMPACT</td>\n",
              "      <td>2.4</td>\n",
              "      <td>4</td>\n",
              "      <td>M6</td>\n",
              "      <td>Z</td>\n",
              "      <td>11.2</td>\n",
              "      <td>7.7</td>\n",
              "      <td>9.6</td>\n",
              "      <td>29</td>\n",
              "      <td>221</td>\n",
              "    </tr>\n",
              "    <tr>\n",
              "      <th>2</th>\n",
              "      <td>2014</td>\n",
              "      <td>ACURA</td>\n",
              "      <td>ILX HYBRID</td>\n",
              "      <td>COMPACT</td>\n",
              "      <td>1.5</td>\n",
              "      <td>4</td>\n",
              "      <td>AV7</td>\n",
              "      <td>Z</td>\n",
              "      <td>6.0</td>\n",
              "      <td>5.8</td>\n",
              "      <td>5.9</td>\n",
              "      <td>48</td>\n",
              "      <td>136</td>\n",
              "    </tr>\n",
              "    <tr>\n",
              "      <th>3</th>\n",
              "      <td>2014</td>\n",
              "      <td>ACURA</td>\n",
              "      <td>MDX 4WD</td>\n",
              "      <td>SUV - SMALL</td>\n",
              "      <td>3.5</td>\n",
              "      <td>6</td>\n",
              "      <td>AS6</td>\n",
              "      <td>Z</td>\n",
              "      <td>12.7</td>\n",
              "      <td>9.1</td>\n",
              "      <td>11.1</td>\n",
              "      <td>25</td>\n",
              "      <td>255</td>\n",
              "    </tr>\n",
              "    <tr>\n",
              "      <th>4</th>\n",
              "      <td>2014</td>\n",
              "      <td>ACURA</td>\n",
              "      <td>RDX AWD</td>\n",
              "      <td>SUV - SMALL</td>\n",
              "      <td>3.5</td>\n",
              "      <td>6</td>\n",
              "      <td>AS6</td>\n",
              "      <td>Z</td>\n",
              "      <td>12.1</td>\n",
              "      <td>8.7</td>\n",
              "      <td>10.6</td>\n",
              "      <td>27</td>\n",
              "      <td>244</td>\n",
              "    </tr>\n",
              "  </tbody>\n",
              "</table>\n",
              "</div>"
            ],
            "text/plain": [
              "   MODELYEAR   MAKE  ... FUELCONSUMPTION_COMB_MPG CO2EMISSIONS\n",
              "0       2014  ACURA  ...                       33          196\n",
              "1       2014  ACURA  ...                       29          221\n",
              "2       2014  ACURA  ...                       48          136\n",
              "3       2014  ACURA  ...                       25          255\n",
              "4       2014  ACURA  ...                       27          244\n",
              "\n",
              "[5 rows x 13 columns]"
            ]
          },
          "metadata": {
            "tags": []
          },
          "execution_count": 71
        }
      ]
    },
    {
      "cell_type": "code",
      "metadata": {
        "id": "ZD3x93TPpOho",
        "colab_type": "code",
        "colab": {
          "base_uri": "https://localhost:8080/",
          "height": 104
        },
        "outputId": "1926f7a2-6f3e-400b-93c1-b96aec03bdaa"
      },
      "source": [
        "train_x = np.asanyarray(df[['ENGINESIZE']])\n",
        "train_x[:5]"
      ],
      "execution_count": 73,
      "outputs": [
        {
          "output_type": "execute_result",
          "data": {
            "text/plain": [
              "array([[2. ],\n",
              "       [2.4],\n",
              "       [1.5],\n",
              "       [3.5],\n",
              "       [3.5]])"
            ]
          },
          "metadata": {
            "tags": []
          },
          "execution_count": 73
        }
      ]
    },
    {
      "cell_type": "code",
      "metadata": {
        "id": "REw-ZMxyqhXB",
        "colab_type": "code",
        "colab": {
          "base_uri": "https://localhost:8080/",
          "height": 104
        },
        "outputId": "661568cb-a30e-41f1-bfca-0539706fe95f"
      },
      "source": [
        "train_y = np.asanyarray(df[['CO2EMISSIONS']])\n",
        "train_y[:5]"
      ],
      "execution_count": 76,
      "outputs": [
        {
          "output_type": "execute_result",
          "data": {
            "text/plain": [
              "array([[196],\n",
              "       [221],\n",
              "       [136],\n",
              "       [255],\n",
              "       [244]])"
            ]
          },
          "metadata": {
            "tags": []
          },
          "execution_count": 76
        }
      ]
    },
    {
      "cell_type": "code",
      "metadata": {
        "id": "G2Rtwugzpl-K",
        "colab_type": "code",
        "colab": {
          "base_uri": "https://localhost:8080/",
          "height": 69
        },
        "outputId": "71a7d12a-84d7-4794-8ddc-37179085325b"
      },
      "source": [
        "a = tf.Variable(20.0)\n",
        "b = tf.Variable(30.2)\n",
        "y = a*train_x + b\n",
        "a,b,y"
      ],
      "execution_count": 75,
      "outputs": [
        {
          "output_type": "execute_result",
          "data": {
            "text/plain": [
              "(<tf.Variable 'Variable_1:0' shape=() dtype=float32_ref>,\n",
              " <tf.Variable 'Variable_2:0' shape=() dtype=float32_ref>,\n",
              " <tf.Tensor 'add_2:0' shape=(1067, 1) dtype=float32>)"
            ]
          },
          "metadata": {
            "tags": []
          },
          "execution_count": 75
        }
      ]
    },
    {
      "cell_type": "code",
      "metadata": {
        "id": "t_ujOoS4qKoX",
        "colab_type": "code",
        "colab": {}
      },
      "source": [
        "loss = tf.reduce_mean(tf.square(y - train_y))"
      ],
      "execution_count": 0,
      "outputs": []
    },
    {
      "cell_type": "code",
      "metadata": {
        "id": "d9LXW-Vjq0iN",
        "colab_type": "code",
        "colab": {}
      },
      "source": [
        "optimizer = tf.train.GradientDescentOptimizer(0.05)\n",
        "train = optimizer.minimize(loss)"
      ],
      "execution_count": 0,
      "outputs": []
    },
    {
      "cell_type": "code",
      "metadata": {
        "id": "51-1ZqwrrJwv",
        "colab_type": "code",
        "colab": {}
      },
      "source": [
        "init = tf.global_variables_initializer()\n",
        "sess = tf.Session()\n",
        "sess.run(init)"
      ],
      "execution_count": 0,
      "outputs": []
    },
    {
      "cell_type": "code",
      "metadata": {
        "id": "IKQtDEGlrfsR",
        "colab_type": "code",
        "colab": {
          "base_uri": "https://localhost:8080/",
          "height": 364
        },
        "outputId": "74dbdd5f-f67f-450e-efa9-f2910adf91c6"
      },
      "source": [
        "loss_values =  []\n",
        "train_values = []\n",
        "for epoch in range(100):\n",
        "  _,loss_val,a_val,b_val = sess.run([train,loss,a,b])\n",
        "  loss_values.append(loss_val)\n",
        "  if epoch%5 == 0:\n",
        "    print(epoch,loss_val,a_val,b_val)\n",
        "    train_values.append([a_val,b_val])\n"
      ],
      "execution_count": 82,
      "outputs": [
        {
          "output_type": "stream",
          "text": [
            "0 26992.59 77.07106 46.11027\n",
            "5 1891.721 58.844627 47.595726\n",
            "10 1762.7241 57.65104 53.01983\n",
            "15 1653.5896 56.366524 58.023914\n",
            "20 1559.0441 55.17285 62.682034\n",
            "25 1477.1372 54.061794 67.01764\n",
            "30 1406.179 53.027668 71.05308\n",
            "35 1344.706 52.065136 74.80913\n",
            "40 1291.4507 51.169243 78.30512\n",
            "45 1245.3146 50.335384 81.559074\n",
            "50 1205.3452 49.55925 84.587746\n",
            "55 1170.7192 48.83685 87.40672\n",
            "60 1140.7214 48.16447 90.03054\n",
            "65 1114.734 47.53864 92.472694\n",
            "70 1092.2205 46.956135 94.74576\n",
            "75 1072.716 46.413963 96.86146\n",
            "80 1055.8191 45.90933 98.83067\n",
            "85 1041.1809 45.43963 100.66356\n",
            "90 1028.4996 45.002457 102.36954\n",
            "95 1017.5135 44.595547 103.9574\n"
          ],
          "name": "stdout"
        }
      ]
    },
    {
      "cell_type": "code",
      "metadata": {
        "id": "8kwxcb1-slRp",
        "colab_type": "code",
        "colab": {
          "base_uri": "https://localhost:8080/",
          "height": 391
        },
        "outputId": "5b816f85-b1bb-4ab2-9c06-e37bddaa8f6f"
      },
      "source": [
        "plt.plot(loss_values,'ro')"
      ],
      "execution_count": 83,
      "outputs": [
        {
          "output_type": "execute_result",
          "data": {
            "text/plain": [
              "[<matplotlib.lines.Line2D at 0x7fbc32ba6d68>]"
            ]
          },
          "metadata": {
            "tags": []
          },
          "execution_count": 83
        },
        {
          "output_type": "display_data",
          "data": {
            "image/png": "[encoded data removed]",
            "text/plain": [
              "<Figure size 720x432 with 1 Axes>"
            ]
          },
          "metadata": {
            "tags": []
          }
        }
      ]
    },
    {
      "cell_type": "markdown",
      "metadata": {
        "id": "J3U_CnJztWRv",
        "colab_type": "text"
      },
      "source": [
        "# Logistic Regression in Tensorflow"
      ]
    },
    {
      "cell_type": "code",
      "metadata": {
        "id": "Hnu73le8srYH",
        "colab_type": "code",
        "colab": {}
      },
      "source": [
        "import time\n",
        "from sklearn.datasets import load_iris\n",
        "from sklearn.model_selection import train_test_split"
      ],
      "execution_count": 0,
      "outputs": []
    },
    {
      "cell_type": "code",
      "metadata": {
        "id": "9zwNJBEZtzgV",
        "colab_type": "code",
        "colab": {}
      },
      "source": [
        "iris = load_iris()\n",
        "iris_X, iris_y = iris.data[:-1,:], iris.target[:-1]\n",
        "iris_y= pd.get_dummies(iris_y).values\n",
        "trainX, testX, trainY, testY = train_test_split(iris_X, iris_y, test_size=0.33, random_state=42)\n"
      ],
      "execution_count": 0,
      "outputs": []
    },
    {
      "cell_type": "code",
      "metadata": {
        "id": "YEYKgvAOt25O",
        "colab_type": "code",
        "colab": {}
      },
      "source": [
        "# numFeatures is the number of features in our input data.\n",
        "# In the iris dataset, this number is '4'.\n",
        "numFeatures = trainX.shape[1]\n",
        "\n",
        "# numLabels is the number of classes our data points can be in.\n",
        "# In the iris dataset, this number is '3'.\n",
        "numLabels = trainY.shape[1]\n",
        "\n",
        "\n",
        "# Placeholders\n",
        "# 'None' means TensorFlow shouldn't expect a fixed number in that dimension\n",
        "X = tf.placeholder(tf.float32, [None, numFeatures]) # Iris has 4 features, so X is a tensor to hold our data.\n",
        "yGold = tf.placeholder(tf.float32, [None, numLabels]) # This will be our correct answers matrix for 3 classes."
      ],
      "execution_count": 0,
      "outputs": []
    },
    {
      "cell_type": "code",
      "metadata": {
        "id": "kqE8IP0LuEBk",
        "colab_type": "code",
        "colab": {}
      },
      "source": [
        "W = tf.Variable(tf.zeros([4, 3]))  # 4-dimensional input and  3 classes\n",
        "b = tf.Variable(tf.zeros([3])) # 3-dimensional output [0,0,1],[0,1,0],[1,0,0]"
      ],
      "execution_count": 0,
      "outputs": []
    },
    {
      "cell_type": "code",
      "metadata": {
        "id": "NWs_srM9uIB3",
        "colab_type": "code",
        "colab": {}
      },
      "source": [
        "#Randomly sample from a normal distribution with standard deviation .01\n",
        "\n",
        "weights = tf.Variable(tf.random_normal([numFeatures,numLabels],\n",
        "                                       mean=0,\n",
        "                                       stddev=0.01,\n",
        "                                       name=\"weights\"))\n",
        "\n",
        "bias = tf.Variable(tf.random_normal([1,numLabels],\n",
        "                                    mean=0,\n",
        "                                    stddev=0.01,\n",
        "                                    name=\"bias\"))"
      ],
      "execution_count": 0,
      "outputs": []
    },
    {
      "cell_type": "markdown",
      "metadata": {
        "id": "mp-NTjzruR-u",
        "colab_type": "text"
      },
      "source": [
        "# Logistic Regression model\n",
        "\n",
        "3 main components:\n",
        "\n",
        "\n",
        "\n",
        "1.   weight times features matrix multiplication operation\n",
        "2.   summation of weighted features and a bias term\n",
        "\n",
        "3.   sigmoid function\n",
        "\n"
      ]
    },
    {
      "cell_type": "code",
      "metadata": {
        "id": "YRU69W9huOcU",
        "colab_type": "code",
        "colab": {}
      },
      "source": [
        "# Note that these feed into each other.\n",
        "apply_weights_OP = tf.matmul(X, weights, name=\"apply_weights\")\n",
        "add_bias_OP = tf.add(apply_weights_OP, bias, name=\"add_bias\") \n",
        "activation_OP = tf.nn.sigmoid(add_bias_OP, name=\"activation\")"
      ],
      "execution_count": 0,
      "outputs": []
    },
    {
      "cell_type": "code",
      "metadata": {
        "id": "rLOzqp8UvQlG",
        "colab_type": "code",
        "colab": {}
      },
      "source": [
        "# Number of Epochs in our training\n",
        "numEpochs = 700\n",
        "\n",
        "# Defining our learning rate iterations (decay)\n",
        "learningRate = tf.train.exponential_decay(learning_rate=0.0008,\n",
        "                                          global_step= 1,\n",
        "                                          decay_steps=trainX.shape[0],\n",
        "                                          decay_rate= 0.95,\n",
        "                                          staircase=True)"
      ],
      "execution_count": 0,
      "outputs": []
    },
    {
      "cell_type": "code",
      "metadata": {
        "id": "-o1f2S0Vvb57",
        "colab_type": "code",
        "colab": {}
      },
      "source": [
        "#Defining our cost function - Squared Mean Error\n",
        "cost_OP = tf.nn.l2_loss(activation_OP-yGold, name=\"squared_error_cost\")\n",
        "\n",
        "#Defining our Gradient Descent\n",
        "training_OP = tf.train.GradientDescentOptimizer(learningRate).minimize(cost_OP)"
      ],
      "execution_count": 0,
      "outputs": []
    },
    {
      "cell_type": "code",
      "metadata": {
        "id": "HBJC7uppvhMg",
        "colab_type": "code",
        "colab": {}
      },
      "source": [
        "# Create a tensorflow session\n",
        "sess = tf.Session()\n",
        "\n",
        "# Initialize our weights and biases variables.\n",
        "init_OP = tf.global_variables_initializer()\n",
        "\n",
        "# Initialize all tensorflow variables\n",
        "sess.run(init_OP)"
      ],
      "execution_count": 0,
      "outputs": []
    },
    {
      "cell_type": "code",
      "metadata": {
        "id": "tYlWEM3Cvk9Z",
        "colab_type": "code",
        "colab": {}
      },
      "source": [
        "# argmax(activation_OP, 1) returns the label with the most probability\n",
        "# argmax(yGold, 1) is the correct label\n",
        "correct_predictions_OP = tf.equal(tf.argmax(activation_OP,1),tf.argmax(yGold,1))\n",
        "\n",
        "# If every false prediction is 0 and every true prediction is 1, the average returns us the accuracy\n",
        "accuracy_OP = tf.reduce_mean(tf.cast(correct_predictions_OP, \"float\"))\n",
        "\n",
        "# Summary op for regression output\n",
        "activation_summary_OP = tf.summary.histogram(\"output\", activation_OP)\n",
        "\n",
        "# Summary op for accuracy\n",
        "accuracy_summary_OP = tf.summary.scalar(\"accuracy\", accuracy_OP)\n",
        "\n",
        "# Summary op for cost\n",
        "cost_summary_OP = tf.summary.scalar(\"cost\", cost_OP)\n",
        "\n",
        "# Summary ops to check how variables (W, b) are updating after each iteration\n",
        "weightSummary = tf.summary.histogram(\"weights\", weights.eval(session=sess))\n",
        "biasSummary = tf.summary.histogram(\"biases\", bias.eval(session=sess))\n",
        "\n",
        "# Merge all summaries\n",
        "merged = tf.summary.merge([activation_summary_OP, accuracy_summary_OP, cost_summary_OP, weightSummary, biasSummary])\n",
        "\n",
        "# Summary writer\n",
        "writer = tf.summary.FileWriter(\"summary_logs\", sess.graph)"
      ],
      "execution_count": 0,
      "outputs": []
    },
    {
      "cell_type": "code",
      "metadata": {
        "id": "3K27ctMavpiS",
        "colab_type": "code",
        "colab": {
          "base_uri": "https://localhost:8080/",
          "height": 1000
        },
        "outputId": "542d05cc-ad22-47e4-b311-b4942196c47d"
      },
      "source": [
        "cost = 0\n",
        "diff = 1\n",
        "epoch_values = []\n",
        "accuracy_values = []\n",
        "cost_values = []\n",
        "\n",
        "# Training epochs\n",
        "for i in range(numEpochs):\n",
        "    if i > 1 and diff < .0001:\n",
        "        print(\"change in cost %g; convergence.\"%diff)\n",
        "        break\n",
        "    else:\n",
        "        # Run training step\n",
        "        step = sess.run(training_OP, feed_dict={X: trainX, yGold: trainY})\n",
        "        # Report occasional stats\n",
        "        if i % 10 == 0:\n",
        "            # Add epoch to epoch_values\n",
        "            epoch_values.append(i)\n",
        "            # Generate accuracy stats on test data\n",
        "            train_accuracy, newCost = sess.run([accuracy_OP, cost_OP], feed_dict={X: trainX, yGold: trainY})\n",
        "            # Add accuracy to live graphing variable\n",
        "            accuracy_values.append(train_accuracy)\n",
        "            # Add cost to live graphing variable\n",
        "            cost_values.append(newCost)\n",
        "            # Re-assign values for variables\n",
        "            diff = abs(newCost - cost)\n",
        "            cost = newCost\n",
        "\n",
        "            #generate print statements\n",
        "            print(\"step %d, training accuracy %g, cost %g, change in cost %g\"%(i, train_accuracy, newCost, diff))\n",
        "\n",
        "\n",
        "# How well do we perform on held-out test data?\n",
        "print(\"final accuracy on test set: %s\" %str(sess.run(accuracy_OP, \n",
        "                                                     feed_dict={X: testX, \n",
        "                                                                yGold: testY})))"
      ],
      "execution_count": 94,
      "outputs": [
        {
          "output_type": "stream",
          "text": [
            "step 0, training accuracy 0.333333, cost 34.8866, change in cost 34.8866\n",
            "step 10, training accuracy 0.545455, cost 30.1569, change in cost 4.72972\n",
            "step 20, training accuracy 0.646465, cost 28.2053, change in cost 1.95163\n",
            "step 30, training accuracy 0.646465, cost 26.5546, change in cost 1.65067\n",
            "step 40, training accuracy 0.646465, cost 25.1813, change in cost 1.3733\n",
            "step 50, training accuracy 0.646465, cost 24.0462, change in cost 1.13509\n",
            "step 60, training accuracy 0.646465, cost 23.1067, change in cost 0.939518\n",
            "step 70, training accuracy 0.646465, cost 22.3242, change in cost 0.782467\n",
            "step 80, training accuracy 0.646465, cost 21.6669, change in cost 0.65736\n",
            "step 90, training accuracy 0.646465, cost 21.1092, change in cost 0.557716\n",
            "step 100, training accuracy 0.656566, cost 20.6312, change in cost 0.477989\n",
            "step 110, training accuracy 0.666667, cost 20.2174, change in cost 0.41374\n",
            "step 120, training accuracy 0.666667, cost 19.8559, change in cost 0.361551\n",
            "step 130, training accuracy 0.666667, cost 19.5371, change in cost 0.318771\n",
            "step 140, training accuracy 0.666667, cost 19.2537, change in cost 0.283407\n",
            "step 150, training accuracy 0.666667, cost 18.9998, change in cost 0.253914\n",
            "step 160, training accuracy 0.676768, cost 18.7707, change in cost 0.229109\n",
            "step 170, training accuracy 0.686869, cost 18.5626, change in cost 0.208096\n",
            "step 180, training accuracy 0.69697, cost 18.3724, change in cost 0.190145\n",
            "step 190, training accuracy 0.717172, cost 18.1977, change in cost 0.174715\n",
            "step 200, training accuracy 0.717172, cost 18.0364, change in cost 0.161356\n",
            "step 210, training accuracy 0.737374, cost 17.8866, change in cost 0.149719\n",
            "step 220, training accuracy 0.737374, cost 17.7471, change in cost 0.139523\n",
            "step 230, training accuracy 0.747475, cost 17.6166, change in cost 0.130535\n",
            "step 240, training accuracy 0.757576, cost 17.494, change in cost 0.122574\n",
            "step 250, training accuracy 0.787879, cost 17.3785, change in cost 0.115494\n",
            "step 260, training accuracy 0.787879, cost 17.2694, change in cost 0.109154\n",
            "step 270, training accuracy 0.787879, cost 17.1659, change in cost 0.103462\n",
            "step 280, training accuracy 0.787879, cost 17.0676, change in cost 0.0983219\n",
            "step 290, training accuracy 0.787879, cost 16.9739, change in cost 0.0936718\n",
            "step 300, training accuracy 0.79798, cost 16.8845, change in cost 0.0894413\n",
            "step 310, training accuracy 0.79798, cost 16.7989, change in cost 0.0855827\n",
            "step 320, training accuracy 0.79798, cost 16.7168, change in cost 0.0820484\n",
            "step 330, training accuracy 0.79798, cost 16.638, change in cost 0.0788021\n",
            "step 340, training accuracy 0.818182, cost 16.5622, change in cost 0.0758114\n",
            "step 350, training accuracy 0.828283, cost 16.4892, change in cost 0.0730476\n",
            "step 360, training accuracy 0.838384, cost 16.4187, change in cost 0.070488\n",
            "step 370, training accuracy 0.838384, cost 16.3506, change in cost 0.0681057\n",
            "step 380, training accuracy 0.838384, cost 16.2847, change in cost 0.0658913\n",
            "step 390, training accuracy 0.848485, cost 16.2209, change in cost 0.0638199\n",
            "step 400, training accuracy 0.848485, cost 16.159, change in cost 0.0618858\n",
            "step 410, training accuracy 0.848485, cost 16.0989, change in cost 0.0600681\n",
            "step 420, training accuracy 0.848485, cost 16.0406, change in cost 0.0583591\n",
            "step 430, training accuracy 0.858586, cost 15.9838, change in cost 0.0567541\n",
            "step 440, training accuracy 0.858586, cost 15.9286, change in cost 0.0552359\n",
            "step 450, training accuracy 0.868687, cost 15.8748, change in cost 0.0538025\n",
            "step 460, training accuracy 0.868687, cost 15.8223, change in cost 0.0524454\n",
            "step 470, training accuracy 0.878788, cost 15.7712, change in cost 0.051158\n",
            "step 480, training accuracy 0.878788, cost 15.7212, change in cost 0.0499363\n",
            "step 490, training accuracy 0.878788, cost 15.6725, change in cost 0.0487709\n",
            "step 500, training accuracy 0.878788, cost 15.6248, change in cost 0.0476637\n",
            "step 510, training accuracy 0.878788, cost 15.5782, change in cost 0.0466051\n",
            "step 520, training accuracy 0.878788, cost 15.5326, change in cost 0.0455961\n",
            "step 530, training accuracy 0.888889, cost 15.488, change in cost 0.0446301\n",
            "step 540, training accuracy 0.89899, cost 15.4443, change in cost 0.043704\n",
            "step 550, training accuracy 0.89899, cost 15.4014, change in cost 0.042819\n",
            "step 560, training accuracy 0.89899, cost 15.3595, change in cost 0.0419674\n",
            "step 570, training accuracy 0.89899, cost 15.3183, change in cost 0.041151\n",
            "step 580, training accuracy 0.909091, cost 15.278, change in cost 0.0403643\n",
            "step 590, training accuracy 0.909091, cost 15.2383, change in cost 0.039609\n",
            "step 600, training accuracy 0.909091, cost 15.1995, change in cost 0.0388784\n",
            "step 610, training accuracy 0.909091, cost 15.1613, change in cost 0.0381765\n",
            "step 620, training accuracy 0.909091, cost 15.1238, change in cost 0.0374985\n",
            "step 630, training accuracy 0.909091, cost 15.087, change in cost 0.0368452\n",
            "step 640, training accuracy 0.909091, cost 15.0507, change in cost 0.0362082\n",
            "step 650, training accuracy 0.909091, cost 15.0151, change in cost 0.0355978\n",
            "step 660, training accuracy 0.909091, cost 14.9801, change in cost 0.0350065\n",
            "step 670, training accuracy 0.909091, cost 14.9457, change in cost 0.0344305\n",
            "step 680, training accuracy 0.909091, cost 14.9118, change in cost 0.0338755\n",
            "step 690, training accuracy 0.909091, cost 14.8785, change in cost 0.0333338\n",
            "final accuracy on test set: 0.9\n"
          ],
          "name": "stdout"
        }
      ]
    },
    {
      "cell_type": "code",
      "metadata": {
        "id": "chq_gHKovxvx",
        "colab_type": "code",
        "colab": {
          "base_uri": "https://localhost:8080/",
          "height": 374
        },
        "outputId": "4a38080e-6589-486c-b415-96517b95fda0"
      },
      "source": [
        "plt.plot([np.mean(cost_values[i-50:i]) for i in range(len(cost_values))])\n",
        "plt.show()"
      ],
      "execution_count": 95,
      "outputs": [
        {
          "output_type": "display_data",
          "data": {
            "image/png": "[encoded data removed]",
            "text/plain": [
              "<Figure size 720x432 with 1 Axes>"
            ]
          },
          "metadata": {
            "tags": []
          }
        }
      ]
    }
  ]
}