{
 "cells": [
  {
   "cell_type": "code",
   "execution_count": 1,
   "metadata": {},
   "outputs": [],
   "source": [
    "#importing required libraries\n",
    "import pandas as pd\n",
    "import numpy as np\n",
    "\n",
    "import matplotlib.pyplot as plt\n",
    "import seaborn as sns\n",
    "%matplotlib inline\n",
    "%load_ext autoreload\n",
    "%autoreload 2\n",
    "\n",
    "import warnings\n",
    "warnings.filterwarnings('ignore')"
   ]
  },
  {
   "cell_type": "code",
   "execution_count": 41,
   "metadata": {},
   "outputs": [
    {
     "data": {
      "text/html": [
       "<div>\n",
       "<style scoped>\n",
       "    .dataframe tbody tr th:only-of-type {\n",
       "        vertical-align: middle;\n",
       "    }\n",
       "\n",
       "    .dataframe tbody tr th {\n",
       "        vertical-align: top;\n",
       "    }\n",
       "\n",
       "    .dataframe thead th {\n",
       "        text-align: right;\n",
       "    }\n",
       "</style>\n",
       "<table border=\"1\" class=\"dataframe\">\n",
       "  <thead>\n",
       "    <tr style=\"text-align: right;\">\n",
       "      <th></th>\n",
       "      <th>employee_id</th>\n",
       "      <th>department</th>\n",
       "      <th>region</th>\n",
       "      <th>education</th>\n",
       "      <th>gender</th>\n",
       "      <th>recruitment_channel</th>\n",
       "      <th>no_of_trainings</th>\n",
       "      <th>age</th>\n",
       "      <th>previous_year_rating</th>\n",
       "      <th>length_of_service</th>\n",
       "      <th>KPIs_met &gt;80%</th>\n",
       "      <th>awards_won?</th>\n",
       "      <th>avg_training_score</th>\n",
       "      <th>is_promoted</th>\n",
       "    </tr>\n",
       "  </thead>\n",
       "  <tbody>\n",
       "    <tr>\n",
       "      <th>0</th>\n",
       "      <td>65438</td>\n",
       "      <td>Sales &amp; Marketing</td>\n",
       "      <td>region_7</td>\n",
       "      <td>Master's &amp; above</td>\n",
       "      <td>f</td>\n",
       "      <td>sourcing</td>\n",
       "      <td>1</td>\n",
       "      <td>35</td>\n",
       "      <td>5.0</td>\n",
       "      <td>8</td>\n",
       "      <td>1</td>\n",
       "      <td>0</td>\n",
       "      <td>49</td>\n",
       "      <td>0</td>\n",
       "    </tr>\n",
       "    <tr>\n",
       "      <th>1</th>\n",
       "      <td>65141</td>\n",
       "      <td>Operations</td>\n",
       "      <td>region_22</td>\n",
       "      <td>Bachelor's</td>\n",
       "      <td>m</td>\n",
       "      <td>other</td>\n",
       "      <td>1</td>\n",
       "      <td>30</td>\n",
       "      <td>5.0</td>\n",
       "      <td>4</td>\n",
       "      <td>0</td>\n",
       "      <td>0</td>\n",
       "      <td>60</td>\n",
       "      <td>0</td>\n",
       "    </tr>\n",
       "    <tr>\n",
       "      <th>2</th>\n",
       "      <td>7513</td>\n",
       "      <td>Sales &amp; Marketing</td>\n",
       "      <td>region_19</td>\n",
       "      <td>Bachelor's</td>\n",
       "      <td>m</td>\n",
       "      <td>sourcing</td>\n",
       "      <td>1</td>\n",
       "      <td>34</td>\n",
       "      <td>3.0</td>\n",
       "      <td>7</td>\n",
       "      <td>0</td>\n",
       "      <td>0</td>\n",
       "      <td>50</td>\n",
       "      <td>0</td>\n",
       "    </tr>\n",
       "    <tr>\n",
       "      <th>3</th>\n",
       "      <td>2542</td>\n",
       "      <td>Sales &amp; Marketing</td>\n",
       "      <td>region_23</td>\n",
       "      <td>Bachelor's</td>\n",
       "      <td>m</td>\n",
       "      <td>other</td>\n",
       "      <td>2</td>\n",
       "      <td>39</td>\n",
       "      <td>1.0</td>\n",
       "      <td>10</td>\n",
       "      <td>0</td>\n",
       "      <td>0</td>\n",
       "      <td>50</td>\n",
       "      <td>0</td>\n",
       "    </tr>\n",
       "    <tr>\n",
       "      <th>4</th>\n",
       "      <td>48945</td>\n",
       "      <td>Technology</td>\n",
       "      <td>region_26</td>\n",
       "      <td>Bachelor's</td>\n",
       "      <td>m</td>\n",
       "      <td>other</td>\n",
       "      <td>1</td>\n",
       "      <td>45</td>\n",
       "      <td>3.0</td>\n",
       "      <td>2</td>\n",
       "      <td>0</td>\n",
       "      <td>0</td>\n",
       "      <td>73</td>\n",
       "      <td>0</td>\n",
       "    </tr>\n",
       "  </tbody>\n",
       "</table>\n",
       "</div>"
      ],
      "text/plain": [
       "   employee_id         department     region         education gender  \\\n",
       "0        65438  Sales & Marketing   region_7  Master's & above      f   \n",
       "1        65141         Operations  region_22        Bachelor's      m   \n",
       "2         7513  Sales & Marketing  region_19        Bachelor's      m   \n",
       "3         2542  Sales & Marketing  region_23        Bachelor's      m   \n",
       "4        48945         Technology  region_26        Bachelor's      m   \n",
       "\n",
       "  recruitment_channel  no_of_trainings  age  previous_year_rating  \\\n",
       "0            sourcing                1   35                   5.0   \n",
       "1               other                1   30                   5.0   \n",
       "2            sourcing                1   34                   3.0   \n",
       "3               other                2   39                   1.0   \n",
       "4               other                1   45                   3.0   \n",
       "\n",
       "   length_of_service  KPIs_met >80%  awards_won?  avg_training_score  \\\n",
       "0                  8              1            0                  49   \n",
       "1                  4              0            0                  60   \n",
       "2                  7              0            0                  50   \n",
       "3                 10              0            0                  50   \n",
       "4                  2              0            0                  73   \n",
       "\n",
       "   is_promoted  \n",
       "0            0  \n",
       "1            0  \n",
       "2            0  \n",
       "3            0  \n",
       "4            0  "
      ]
     },
     "execution_count": 41,
     "metadata": {},
     "output_type": "execute_result"
    }
   ],
   "source": [
    "train = pd.read_csv('train_LZdllcl.csv')\n",
    "train.head()"
   ]
  },
  {
   "cell_type": "code",
   "execution_count": 122,
   "metadata": {},
   "outputs": [
    {
     "data": {
      "text/plain": [
       "<matplotlib.axes._subplots.AxesSubplot at 0x16b2d81bf48>"
      ]
     },
     "execution_count": 122,
     "metadata": {},
     "output_type": "execute_result"
    },
    {
     "data": {
      "image/png": "[encoded data removed]",
      "text/plain": [
       "<Figure size 432x288 with 1 Axes>"
      ]
     },
     "metadata": {
      "needs_background": "light"
     },
     "output_type": "display_data"
    }
   ],
   "source": [
    "sns.countplot(x = 'is_promoted', data = train)"
   ]
  },
  {
   "cell_type": "code",
   "execution_count": 123,
   "metadata": {},
   "outputs": [
    {
     "data": {
      "text/plain": [
       "<matplotlib.axes._subplots.AxesSubplot at 0x16b2d816dc8>"
      ]
     },
     "execution_count": 123,
     "metadata": {},
     "output_type": "execute_result"
    },
    {
     "data": {
      "image/png": "[encoded data removed]",
      "text/plain": [
       "<Figure size 1080x720 with 2 Axes>"
      ]
     },
     "metadata": {
      "needs_background": "light"
     },
     "output_type": "display_data"
    }
   ],
   "source": [
    "plt.figure(figsize = (15,10))\n",
    "sns.heatmap(train.corr(),annot = True)"
   ]
  },
  {
   "cell_type": "code",
   "execution_count": 42,
   "metadata": {
    "scrolled": false
   },
   "outputs": [
    {
     "name": "stdout",
     "output_type": "stream",
     "text": [
      "<class 'pandas.core.frame.DataFrame'>\n",
      "RangeIndex: 54808 entries, 0 to 54807\n",
      "Data columns (total 14 columns):\n",
      " #   Column                Non-Null Count  Dtype  \n",
      "---  ------                --------------  -----  \n",
      " 0   employee_id           54808 non-null  int64  \n",
      " 1   department            54808 non-null  object \n",
      " 2   region                54808 non-null  object \n",
      " 3   education             52399 non-null  object \n",
      " 4   gender                54808 non-null  object \n",
      " 5   recruitment_channel   54808 non-null  object \n",
      " 6   no_of_trainings       54808 non-null  int64  \n",
      " 7   age                   54808 non-null  int64  \n",
      " 8   previous_year_rating  50684 non-null  float64\n",
      " 9   length_of_service     54808 non-null  int64  \n",
      " 10  KPIs_met >80%         54808 non-null  int64  \n",
      " 11  awards_won?           54808 non-null  int64  \n",
      " 12  avg_training_score    54808 non-null  int64  \n",
      " 13  is_promoted           54808 non-null  int64  \n",
      "dtypes: float64(1), int64(8), object(5)\n",
      "memory usage: 5.9+ MB\n"
     ]
    }
   ],
   "source": [
    "train.info()"
   ]
  },
  {
   "cell_type": "code",
   "execution_count": 43,
   "metadata": {
    "scrolled": true
   },
   "outputs": [
    {
     "data": {
      "text/plain": [
       "3.0    18618\n",
       "5.0    11741\n",
       "4.0     9877\n",
       "1.0     6223\n",
       "2.0     4225\n",
       "Name: previous_year_rating, dtype: int64"
      ]
     },
     "execution_count": 43,
     "metadata": {},
     "output_type": "execute_result"
    }
   ],
   "source": [
    "train.previous_year_rating.value_counts()"
   ]
  },
  {
   "cell_type": "code",
   "execution_count": 45,
   "metadata": {},
   "outputs": [],
   "source": [
    "avg_score = train.groupby(['department','region'])['avg_training_score'].transform('mean')\n",
    "avg_score = avg_score/avg_score.mean()\n",
    "train['avg_score'] = avg_score"
   ]
  },
  {
   "cell_type": "code",
   "execution_count": 46,
   "metadata": {},
   "outputs": [],
   "source": [
    "train.previous_year_rating.fillna(0.0,inplace = True)"
   ]
  },
  {
   "cell_type": "code",
   "execution_count": 47,
   "metadata": {
    "scrolled": true
   },
   "outputs": [],
   "source": [
    "department = train.department.values"
   ]
  },
  {
   "cell_type": "code",
   "execution_count": 48,
   "metadata": {},
   "outputs": [
    {
     "data": {
      "text/plain": [
       "region_2     12343\n",
       "region_22     6428\n",
       "region_7      4843\n",
       "region_15     2808\n",
       "region_13     2648\n",
       "region_26     2260\n",
       "region_31     1935\n",
       "region_4      1703\n",
       "region_27     1659\n",
       "region_16     1465\n",
       "region_28     1318\n",
       "region_11     1315\n",
       "region_23     1175\n",
       "region_29      994\n",
       "region_32      945\n",
       "region_19      874\n",
       "region_20      850\n",
       "region_14      827\n",
       "region_25      819\n",
       "region_17      796\n",
       "region_5       766\n",
       "region_6       690\n",
       "region_30      657\n",
       "region_8       655\n",
       "region_10      648\n",
       "region_1       610\n",
       "region_24      508\n",
       "region_12      500\n",
       "region_9       420\n",
       "region_21      411\n",
       "region_3       346\n",
       "region_34      292\n",
       "region_33      269\n",
       "region_18       31\n",
       "Name: region, dtype: int64"
      ]
     },
     "execution_count": 48,
     "metadata": {},
     "output_type": "execute_result"
    }
   ],
   "source": [
    "train.region.value_counts()"
   ]
  },
  {
   "cell_type": "code",
   "execution_count": 49,
   "metadata": {},
   "outputs": [],
   "source": [
    "depart =  pd.get_dummies(train.department,prefix = 'depa',drop_first = True)"
   ]
  },
  {
   "cell_type": "code",
   "execution_count": 50,
   "metadata": {},
   "outputs": [
    {
     "data": {
      "text/html": [
       "<div>\n",
       "<style scoped>\n",
       "    .dataframe tbody tr th:only-of-type {\n",
       "        vertical-align: middle;\n",
       "    }\n",
       "\n",
       "    .dataframe tbody tr th {\n",
       "        vertical-align: top;\n",
       "    }\n",
       "\n",
       "    .dataframe thead th {\n",
       "        text-align: right;\n",
       "    }\n",
       "</style>\n",
       "<table border=\"1\" class=\"dataframe\">\n",
       "  <thead>\n",
       "    <tr style=\"text-align: right;\">\n",
       "      <th></th>\n",
       "      <th>depa_Finance</th>\n",
       "      <th>depa_HR</th>\n",
       "      <th>depa_Legal</th>\n",
       "      <th>depa_Operations</th>\n",
       "      <th>depa_Procurement</th>\n",
       "      <th>depa_R&amp;D</th>\n",
       "      <th>depa_Sales &amp; Marketing</th>\n",
       "      <th>depa_Technology</th>\n",
       "    </tr>\n",
       "  </thead>\n",
       "  <tbody>\n",
       "    <tr>\n",
       "      <th>0</th>\n",
       "      <td>0</td>\n",
       "      <td>0</td>\n",
       "      <td>0</td>\n",
       "      <td>0</td>\n",
       "      <td>0</td>\n",
       "      <td>0</td>\n",
       "      <td>1</td>\n",
       "      <td>0</td>\n",
       "    </tr>\n",
       "    <tr>\n",
       "      <th>1</th>\n",
       "      <td>0</td>\n",
       "      <td>0</td>\n",
       "      <td>0</td>\n",
       "      <td>1</td>\n",
       "      <td>0</td>\n",
       "      <td>0</td>\n",
       "      <td>0</td>\n",
       "      <td>0</td>\n",
       "    </tr>\n",
       "    <tr>\n",
       "      <th>2</th>\n",
       "      <td>0</td>\n",
       "      <td>0</td>\n",
       "      <td>0</td>\n",
       "      <td>0</td>\n",
       "      <td>0</td>\n",
       "      <td>0</td>\n",
       "      <td>1</td>\n",
       "      <td>0</td>\n",
       "    </tr>\n",
       "    <tr>\n",
       "      <th>3</th>\n",
       "      <td>0</td>\n",
       "      <td>0</td>\n",
       "      <td>0</td>\n",
       "      <td>0</td>\n",
       "      <td>0</td>\n",
       "      <td>0</td>\n",
       "      <td>1</td>\n",
       "      <td>0</td>\n",
       "    </tr>\n",
       "    <tr>\n",
       "      <th>4</th>\n",
       "      <td>0</td>\n",
       "      <td>0</td>\n",
       "      <td>0</td>\n",
       "      <td>0</td>\n",
       "      <td>0</td>\n",
       "      <td>0</td>\n",
       "      <td>0</td>\n",
       "      <td>1</td>\n",
       "    </tr>\n",
       "  </tbody>\n",
       "</table>\n",
       "</div>"
      ],
      "text/plain": [
       "   depa_Finance  depa_HR  depa_Legal  depa_Operations  depa_Procurement  \\\n",
       "0             0        0           0                0                 0   \n",
       "1             0        0           0                1                 0   \n",
       "2             0        0           0                0                 0   \n",
       "3             0        0           0                0                 0   \n",
       "4             0        0           0                0                 0   \n",
       "\n",
       "   depa_R&D  depa_Sales & Marketing  depa_Technology  \n",
       "0         0                       1                0  \n",
       "1         0                       0                0  \n",
       "2         0                       1                0  \n",
       "3         0                       1                0  \n",
       "4         0                       0                1  "
      ]
     },
     "execution_count": 50,
     "metadata": {},
     "output_type": "execute_result"
    }
   ],
   "source": [
    "depart.head()"
   ]
  },
  {
   "cell_type": "code",
   "execution_count": 51,
   "metadata": {
    "scrolled": true
   },
   "outputs": [],
   "source": [
    "from category_encoders.binary import BinaryEncoder\n",
    "\n",
    "be = BinaryEncoder(cols = 'region')\n",
    "train = be.fit_transform(train)"
   ]
  },
  {
   "cell_type": "code",
   "execution_count": 52,
   "metadata": {},
   "outputs": [],
   "source": [
    "edu = pd.get_dummies(train.education,prefix = 'edu',drop_first = True)\n",
    "gend = pd.get_dummies(train.gender,prefix = 'gend',drop_first = True)"
   ]
  },
  {
   "cell_type": "code",
   "execution_count": 53,
   "metadata": {},
   "outputs": [
    {
     "data": {
      "text/plain": [
       "(   edu_Below Secondary  edu_Master's & above\n",
       " 0                    0                     1\n",
       " 1                    0                     0\n",
       " 2                    0                     0\n",
       " 3                    0                     0\n",
       " 4                    0                     0,\n",
       "    gend_m\n",
       " 0       0\n",
       " 1       1\n",
       " 2       1\n",
       " 3       1\n",
       " 4       1)"
      ]
     },
     "execution_count": 53,
     "metadata": {},
     "output_type": "execute_result"
    }
   ],
   "source": [
    "edu.head(),gend.head()"
   ]
  },
  {
   "cell_type": "code",
   "execution_count": 54,
   "metadata": {},
   "outputs": [],
   "source": [
    "train_x = pd.concat([train,depart,edu,gend],axis = 1)"
   ]
  },
  {
   "cell_type": "code",
   "execution_count": 55,
   "metadata": {
    "scrolled": true
   },
   "outputs": [
    {
     "name": "stdout",
     "output_type": "stream",
     "text": [
      "<class 'pandas.core.frame.DataFrame'>\n",
      "RangeIndex: 54808 entries, 0 to 54807\n",
      "Data columns (total 32 columns):\n",
      " #   Column                  Non-Null Count  Dtype  \n",
      "---  ------                  --------------  -----  \n",
      " 0   employee_id             54808 non-null  int64  \n",
      " 1   department              54808 non-null  object \n",
      " 2   region_0                54808 non-null  int64  \n",
      " 3   region_1                54808 non-null  int64  \n",
      " 4   region_2                54808 non-null  int64  \n",
      " 5   region_3                54808 non-null  int64  \n",
      " 6   region_4                54808 non-null  int64  \n",
      " 7   region_5                54808 non-null  int64  \n",
      " 8   region_6                54808 non-null  int64  \n",
      " 9   education               52399 non-null  object \n",
      " 10  gender                  54808 non-null  object \n",
      " 11  recruitment_channel     54808 non-null  object \n",
      " 12  no_of_trainings         54808 non-null  int64  \n",
      " 13  age                     54808 non-null  int64  \n",
      " 14  previous_year_rating    54808 non-null  float64\n",
      " 15  length_of_service       54808 non-null  int64  \n",
      " 16  KPIs_met >80%           54808 non-null  int64  \n",
      " 17  awards_won?             54808 non-null  int64  \n",
      " 18  avg_training_score      54808 non-null  int64  \n",
      " 19  is_promoted             54808 non-null  int64  \n",
      " 20  avg_score               54808 non-null  float64\n",
      " 21  depa_Finance            54808 non-null  uint8  \n",
      " 22  depa_HR                 54808 non-null  uint8  \n",
      " 23  depa_Legal              54808 non-null  uint8  \n",
      " 24  depa_Operations         54808 non-null  uint8  \n",
      " 25  depa_Procurement        54808 non-null  uint8  \n",
      " 26  depa_R&D                54808 non-null  uint8  \n",
      " 27  depa_Sales & Marketing  54808 non-null  uint8  \n",
      " 28  depa_Technology         54808 non-null  uint8  \n",
      " 29  edu_Below Secondary     54808 non-null  uint8  \n",
      " 30  edu_Master's & above    54808 non-null  uint8  \n",
      " 31  gend_m                  54808 non-null  uint8  \n",
      "dtypes: float64(2), int64(15), object(4), uint8(11)\n",
      "memory usage: 9.4+ MB\n"
     ]
    }
   ],
   "source": [
    "train_x.info()"
   ]
  },
  {
   "cell_type": "code",
   "execution_count": 56,
   "metadata": {
    "scrolled": true
   },
   "outputs": [
    {
     "data": {
      "text/html": [
       "<div>\n",
       "<style scoped>\n",
       "    .dataframe tbody tr th:only-of-type {\n",
       "        vertical-align: middle;\n",
       "    }\n",
       "\n",
       "    .dataframe tbody tr th {\n",
       "        vertical-align: top;\n",
       "    }\n",
       "\n",
       "    .dataframe thead th {\n",
       "        text-align: right;\n",
       "    }\n",
       "</style>\n",
       "<table border=\"1\" class=\"dataframe\">\n",
       "  <thead>\n",
       "    <tr style=\"text-align: right;\">\n",
       "      <th></th>\n",
       "      <th>employee_id</th>\n",
       "      <th>region_0</th>\n",
       "      <th>region_1</th>\n",
       "      <th>region_2</th>\n",
       "      <th>region_3</th>\n",
       "      <th>region_4</th>\n",
       "      <th>region_5</th>\n",
       "      <th>region_6</th>\n",
       "      <th>no_of_trainings</th>\n",
       "      <th>age</th>\n",
       "      <th>...</th>\n",
       "      <th>depa_HR</th>\n",
       "      <th>depa_Legal</th>\n",
       "      <th>depa_Operations</th>\n",
       "      <th>depa_Procurement</th>\n",
       "      <th>depa_R&amp;D</th>\n",
       "      <th>depa_Sales &amp; Marketing</th>\n",
       "      <th>depa_Technology</th>\n",
       "      <th>edu_Below Secondary</th>\n",
       "      <th>edu_Master's &amp; above</th>\n",
       "      <th>gend_m</th>\n",
       "    </tr>\n",
       "  </thead>\n",
       "  <tbody>\n",
       "    <tr>\n",
       "      <th>0</th>\n",
       "      <td>65438</td>\n",
       "      <td>0</td>\n",
       "      <td>0</td>\n",
       "      <td>0</td>\n",
       "      <td>0</td>\n",
       "      <td>0</td>\n",
       "      <td>0</td>\n",
       "      <td>1</td>\n",
       "      <td>1</td>\n",
       "      <td>35</td>\n",
       "      <td>...</td>\n",
       "      <td>0</td>\n",
       "      <td>0</td>\n",
       "      <td>0</td>\n",
       "      <td>0</td>\n",
       "      <td>0</td>\n",
       "      <td>1</td>\n",
       "      <td>0</td>\n",
       "      <td>0</td>\n",
       "      <td>1</td>\n",
       "      <td>0</td>\n",
       "    </tr>\n",
       "    <tr>\n",
       "      <th>1</th>\n",
       "      <td>65141</td>\n",
       "      <td>0</td>\n",
       "      <td>0</td>\n",
       "      <td>0</td>\n",
       "      <td>0</td>\n",
       "      <td>0</td>\n",
       "      <td>1</td>\n",
       "      <td>0</td>\n",
       "      <td>1</td>\n",
       "      <td>30</td>\n",
       "      <td>...</td>\n",
       "      <td>0</td>\n",
       "      <td>0</td>\n",
       "      <td>1</td>\n",
       "      <td>0</td>\n",
       "      <td>0</td>\n",
       "      <td>0</td>\n",
       "      <td>0</td>\n",
       "      <td>0</td>\n",
       "      <td>0</td>\n",
       "      <td>1</td>\n",
       "    </tr>\n",
       "    <tr>\n",
       "      <th>2</th>\n",
       "      <td>7513</td>\n",
       "      <td>0</td>\n",
       "      <td>0</td>\n",
       "      <td>0</td>\n",
       "      <td>0</td>\n",
       "      <td>0</td>\n",
       "      <td>1</td>\n",
       "      <td>1</td>\n",
       "      <td>1</td>\n",
       "      <td>34</td>\n",
       "      <td>...</td>\n",
       "      <td>0</td>\n",
       "      <td>0</td>\n",
       "      <td>0</td>\n",
       "      <td>0</td>\n",
       "      <td>0</td>\n",
       "      <td>1</td>\n",
       "      <td>0</td>\n",
       "      <td>0</td>\n",
       "      <td>0</td>\n",
       "      <td>1</td>\n",
       "    </tr>\n",
       "    <tr>\n",
       "      <th>3</th>\n",
       "      <td>2542</td>\n",
       "      <td>0</td>\n",
       "      <td>0</td>\n",
       "      <td>0</td>\n",
       "      <td>0</td>\n",
       "      <td>1</td>\n",
       "      <td>0</td>\n",
       "      <td>0</td>\n",
       "      <td>2</td>\n",
       "      <td>39</td>\n",
       "      <td>...</td>\n",
       "      <td>0</td>\n",
       "      <td>0</td>\n",
       "      <td>0</td>\n",
       "      <td>0</td>\n",
       "      <td>0</td>\n",
       "      <td>1</td>\n",
       "      <td>0</td>\n",
       "      <td>0</td>\n",
       "      <td>0</td>\n",
       "      <td>1</td>\n",
       "    </tr>\n",
       "    <tr>\n",
       "      <th>4</th>\n",
       "      <td>48945</td>\n",
       "      <td>0</td>\n",
       "      <td>0</td>\n",
       "      <td>0</td>\n",
       "      <td>0</td>\n",
       "      <td>1</td>\n",
       "      <td>0</td>\n",
       "      <td>1</td>\n",
       "      <td>1</td>\n",
       "      <td>45</td>\n",
       "      <td>...</td>\n",
       "      <td>0</td>\n",
       "      <td>0</td>\n",
       "      <td>0</td>\n",
       "      <td>0</td>\n",
       "      <td>0</td>\n",
       "      <td>0</td>\n",
       "      <td>1</td>\n",
       "      <td>0</td>\n",
       "      <td>0</td>\n",
       "      <td>1</td>\n",
       "    </tr>\n",
       "    <tr>\n",
       "      <th>...</th>\n",
       "      <td>...</td>\n",
       "      <td>...</td>\n",
       "      <td>...</td>\n",
       "      <td>...</td>\n",
       "      <td>...</td>\n",
       "      <td>...</td>\n",
       "      <td>...</td>\n",
       "      <td>...</td>\n",
       "      <td>...</td>\n",
       "      <td>...</td>\n",
       "      <td>...</td>\n",
       "      <td>...</td>\n",
       "      <td>...</td>\n",
       "      <td>...</td>\n",
       "      <td>...</td>\n",
       "      <td>...</td>\n",
       "      <td>...</td>\n",
       "      <td>...</td>\n",
       "      <td>...</td>\n",
       "      <td>...</td>\n",
       "      <td>...</td>\n",
       "    </tr>\n",
       "    <tr>\n",
       "      <th>54803</th>\n",
       "      <td>3030</td>\n",
       "      <td>0</td>\n",
       "      <td>0</td>\n",
       "      <td>0</td>\n",
       "      <td>1</td>\n",
       "      <td>1</td>\n",
       "      <td>1</td>\n",
       "      <td>0</td>\n",
       "      <td>1</td>\n",
       "      <td>48</td>\n",
       "      <td>...</td>\n",
       "      <td>0</td>\n",
       "      <td>0</td>\n",
       "      <td>0</td>\n",
       "      <td>0</td>\n",
       "      <td>0</td>\n",
       "      <td>0</td>\n",
       "      <td>1</td>\n",
       "      <td>0</td>\n",
       "      <td>0</td>\n",
       "      <td>1</td>\n",
       "    </tr>\n",
       "    <tr>\n",
       "      <th>54804</th>\n",
       "      <td>74592</td>\n",
       "      <td>0</td>\n",
       "      <td>0</td>\n",
       "      <td>1</td>\n",
       "      <td>0</td>\n",
       "      <td>1</td>\n",
       "      <td>1</td>\n",
       "      <td>1</td>\n",
       "      <td>1</td>\n",
       "      <td>37</td>\n",
       "      <td>...</td>\n",
       "      <td>0</td>\n",
       "      <td>0</td>\n",
       "      <td>1</td>\n",
       "      <td>0</td>\n",
       "      <td>0</td>\n",
       "      <td>0</td>\n",
       "      <td>0</td>\n",
       "      <td>0</td>\n",
       "      <td>1</td>\n",
       "      <td>0</td>\n",
       "    </tr>\n",
       "    <tr>\n",
       "      <th>54805</th>\n",
       "      <td>13918</td>\n",
       "      <td>0</td>\n",
       "      <td>0</td>\n",
       "      <td>0</td>\n",
       "      <td>1</td>\n",
       "      <td>0</td>\n",
       "      <td>0</td>\n",
       "      <td>1</td>\n",
       "      <td>1</td>\n",
       "      <td>27</td>\n",
       "      <td>...</td>\n",
       "      <td>0</td>\n",
       "      <td>0</td>\n",
       "      <td>0</td>\n",
       "      <td>0</td>\n",
       "      <td>0</td>\n",
       "      <td>0</td>\n",
       "      <td>0</td>\n",
       "      <td>0</td>\n",
       "      <td>0</td>\n",
       "      <td>1</td>\n",
       "    </tr>\n",
       "    <tr>\n",
       "      <th>54806</th>\n",
       "      <td>13614</td>\n",
       "      <td>0</td>\n",
       "      <td>1</td>\n",
       "      <td>0</td>\n",
       "      <td>0</td>\n",
       "      <td>0</td>\n",
       "      <td>0</td>\n",
       "      <td>1</td>\n",
       "      <td>1</td>\n",
       "      <td>29</td>\n",
       "      <td>...</td>\n",
       "      <td>0</td>\n",
       "      <td>0</td>\n",
       "      <td>0</td>\n",
       "      <td>0</td>\n",
       "      <td>0</td>\n",
       "      <td>1</td>\n",
       "      <td>0</td>\n",
       "      <td>0</td>\n",
       "      <td>0</td>\n",
       "      <td>1</td>\n",
       "    </tr>\n",
       "    <tr>\n",
       "      <th>54807</th>\n",
       "      <td>51526</td>\n",
       "      <td>0</td>\n",
       "      <td>0</td>\n",
       "      <td>0</td>\n",
       "      <td>0</td>\n",
       "      <td>0</td>\n",
       "      <td>1</td>\n",
       "      <td>0</td>\n",
       "      <td>1</td>\n",
       "      <td>27</td>\n",
       "      <td>...</td>\n",
       "      <td>1</td>\n",
       "      <td>0</td>\n",
       "      <td>0</td>\n",
       "      <td>0</td>\n",
       "      <td>0</td>\n",
       "      <td>0</td>\n",
       "      <td>0</td>\n",
       "      <td>0</td>\n",
       "      <td>0</td>\n",
       "      <td>1</td>\n",
       "    </tr>\n",
       "  </tbody>\n",
       "</table>\n",
       "<p>54808 rows × 28 columns</p>\n",
       "</div>"
      ],
      "text/plain": [
       "       employee_id  region_0  region_1  region_2  region_3  region_4  \\\n",
       "0            65438         0         0         0         0         0   \n",
       "1            65141         0         0         0         0         0   \n",
       "2             7513         0         0         0         0         0   \n",
       "3             2542         0         0         0         0         1   \n",
       "4            48945         0         0         0         0         1   \n",
       "...            ...       ...       ...       ...       ...       ...   \n",
       "54803         3030         0         0         0         1         1   \n",
       "54804        74592         0         0         1         0         1   \n",
       "54805        13918         0         0         0         1         0   \n",
       "54806        13614         0         1         0         0         0   \n",
       "54807        51526         0         0         0         0         0   \n",
       "\n",
       "       region_5  region_6  no_of_trainings  age  ...  depa_HR  depa_Legal  \\\n",
       "0             0         1                1   35  ...        0           0   \n",
       "1             1         0                1   30  ...        0           0   \n",
       "2             1         1                1   34  ...        0           0   \n",
       "3             0         0                2   39  ...        0           0   \n",
       "4             0         1                1   45  ...        0           0   \n",
       "...         ...       ...              ...  ...  ...      ...         ...   \n",
       "54803         1         0                1   48  ...        0           0   \n",
       "54804         1         1                1   37  ...        0           0   \n",
       "54805         0         1                1   27  ...        0           0   \n",
       "54806         0         1                1   29  ...        0           0   \n",
       "54807         1         0                1   27  ...        1           0   \n",
       "\n",
       "       depa_Operations  depa_Procurement  depa_R&D  depa_Sales & Marketing  \\\n",
       "0                    0                 0         0                       1   \n",
       "1                    1                 0         0                       0   \n",
       "2                    0                 0         0                       1   \n",
       "3                    0                 0         0                       1   \n",
       "4                    0                 0         0                       0   \n",
       "...                ...               ...       ...                     ...   \n",
       "54803                0                 0         0                       0   \n",
       "54804                1                 0         0                       0   \n",
       "54805                0                 0         0                       0   \n",
       "54806                0                 0         0                       1   \n",
       "54807                0                 0         0                       0   \n",
       "\n",
       "       depa_Technology  edu_Below Secondary  edu_Master's & above  gend_m  \n",
       "0                    0                    0                     1       0  \n",
       "1                    0                    0                     0       1  \n",
       "2                    0                    0                     0       1  \n",
       "3                    0                    0                     0       1  \n",
       "4                    1                    0                     0       1  \n",
       "...                ...                  ...                   ...     ...  \n",
       "54803                1                    0                     0       1  \n",
       "54804                0                    0                     1       0  \n",
       "54805                0                    0                     0       1  \n",
       "54806                0                    0                     0       1  \n",
       "54807                0                    0                     0       1  \n",
       "\n",
       "[54808 rows x 28 columns]"
      ]
     },
     "execution_count": 56,
     "metadata": {},
     "output_type": "execute_result"
    }
   ],
   "source": [
    "train_x.drop(['department','education','gender','recruitment_channel'],axis = 1,inplace = True)\n",
    "train_x"
   ]
  },
  {
   "cell_type": "code",
   "execution_count": 57,
   "metadata": {
    "scrolled": true
   },
   "outputs": [
    {
     "data": {
      "text/plain": [
       "employee_id               0\n",
       "region_0                  0\n",
       "region_1                  0\n",
       "region_2                  0\n",
       "region_3                  0\n",
       "region_4                  0\n",
       "region_5                  0\n",
       "region_6                  0\n",
       "no_of_trainings           0\n",
       "age                       0\n",
       "previous_year_rating      0\n",
       "length_of_service         0\n",
       "KPIs_met >80%             0\n",
       "awards_won?               0\n",
       "avg_training_score        0\n",
       "is_promoted               0\n",
       "avg_score                 0\n",
       "depa_Finance              0\n",
       "depa_HR                   0\n",
       "depa_Legal                0\n",
       "depa_Operations           0\n",
       "depa_Procurement          0\n",
       "depa_R&D                  0\n",
       "depa_Sales & Marketing    0\n",
       "depa_Technology           0\n",
       "edu_Below Secondary       0\n",
       "edu_Master's & above      0\n",
       "gend_m                    0\n",
       "dtype: int64"
      ]
     },
     "execution_count": 57,
     "metadata": {},
     "output_type": "execute_result"
    }
   ],
   "source": [
    "train_x.isnull().sum()"
   ]
  },
  {
   "cell_type": "code",
   "execution_count": 116,
   "metadata": {},
   "outputs": [],
   "source": [
    "from sklearn.preprocessing import StandardScaler, MinMaxScaler\n",
    "from sklearn.model_selection import train_test_split\n",
    "\n",
    "y = train_x.is_promoted\n",
    "X_train, X_valid, y_train, y_valid = train_test_split(train_x.drop(['is_promoted','region_0'],axis = 1), y, test_size=0.33, random_state=42, stratify = y)\n",
    "scaler = StandardScaler()\n",
    "df_sc = scaler.fit_transform(X_train)\n"
   ]
  },
  {
   "cell_type": "code",
   "execution_count": 85,
   "metadata": {},
   "outputs": [
    {
     "data": {
      "text/plain": [
       "(36721, 27)"
      ]
     },
     "execution_count": 85,
     "metadata": {},
     "output_type": "execute_result"
    }
   ],
   "source": [
    "X_train.shape"
   ]
  },
  {
   "cell_type": "code",
   "execution_count": 69,
   "metadata": {},
   "outputs": [],
   "source": [
    "from sklearn.metrics import make_scorer,f1_score\n",
    "\n",
    "def print_score(m):\n",
    "    res = [f1_score(m.predict(df_sc), y_train),\n",
    "           f1_score(m.predict(scaler.transform(X_valid)), y_valid),\n",
    "           m.score(df_sc, y_train), m.score(scaler.transform(X_valid), y_valid)]\n",
    "    if hasattr(m, 'oob_score_'): res.append(m.oob_score_)\n",
    "    print(res)"
   ]
  },
  {
   "cell_type": "code",
   "execution_count": 86,
   "metadata": {},
   "outputs": [
    {
     "name": "stdout",
     "output_type": "stream",
     "text": [
      "Wall time: 179 ms\n"
     ]
    }
   ],
   "source": [
    "from xgboost.sklearn import XGBClassifier\n",
    "\n",
    "params = {'objective': 'binary:logistic',\n",
    "          'max_depth': 2,'learning_rate': 1.0,\n",
    "          'silent': True,'n_estimators': 5\n",
    "         }\n",
    "\n",
    "%time model = XGBClassifier(**params).fit(df_sc, y_train)"
   ]
  },
  {
   "cell_type": "code",
   "execution_count": 87,
   "metadata": {},
   "outputs": [
    {
     "name": "stdout",
     "output_type": "stream",
     "text": [
      "[0.4143426294820718, 0.43873517786561267, 0.9359494567141418, 0.9371924586719743]\n"
     ]
    }
   ],
   "source": [
    "print_score(model)"
   ]
  },
  {
   "cell_type": "code",
   "execution_count": 117,
   "metadata": {
    "scrolled": true
   },
   "outputs": [
    {
     "name": "stdout",
     "output_type": "stream",
     "text": [
      "Wall time: 23.6 s\n",
      "[0.5904550499445061, 0.5140488254260709, 0.949756270254078, 0.9416708132913142]\n"
     ]
    }
   ],
   "source": [
    "param = {'colsample_bytree': 0.9045799458309223,\n",
    "          'learning_rate': 0.09113426106388132,\n",
    "          'max_depth': 4,\n",
    "          'min_child_weight': 4,\n",
    "          'n_estimators': 795,\n",
    "          'subsample': 0.7281185407840126}\n",
    "%time model2 =  XGBClassifier(**param).fit(df_sc, y_train)\n",
    "print_score(model2)"
   ]
  },
  {
   "cell_type": "code",
   "execution_count": null,
   "metadata": {},
   "outputs": [],
   "source": [
    "p_test3 = {'learning_rate':[0.15,0.1,0.05,0.01,0.005,0.001], 'n_estimators':[100,250,500,750,1000,1250,1500,1750]}\n",
    "\n",
    "tuning = GridSearchCV(estimator =GradientBoostingClassifier(max_depth=4, min_samples_split=2, min_samples_leaf=1, subsample=1,max_features='sqrt', random_state=10), \n",
    "            param_grid = p_test3, scoring=make_scorer(f1_score),n_jobs=-1,iid=False, cv=3)\n",
    "%time tuning.fit(X_train,y_train)"
   ]
  },
  {
   "cell_type": "code",
   "execution_count": 113,
   "metadata": {},
   "outputs": [
    {
     "name": "stdout",
     "output_type": "stream",
     "text": [
      "[0.5904846598488217, 0.5122515025427647, 0.9498379673756161, 0.9416708132913142]\n",
      "              precision    recall  f1-score   support\n",
      "\n",
      "           0       0.94      1.00      0.97     16547\n",
      "           1       0.89      0.36      0.51      1540\n",
      "\n",
      "    accuracy                           0.94     18087\n",
      "   macro avg       0.92      0.68      0.74     18087\n",
      "weighted avg       0.94      0.94      0.93     18087\n",
      "\n"
     ]
    },
    {
     "data": {
      "image/png": "[encoded data removed]",
      "text/plain": [
       "<Figure size 432x288 with 1 Axes>"
      ]
     },
     "metadata": {
      "needs_background": "light"
     },
     "output_type": "display_data"
    }
   ],
   "source": [
    "from sklearn.metrics import classification_report\n",
    "\n",
    "predictors=list(train_x.drop('is_promoted',axis =1).columns)\n",
    "feat_imp = pd.Series(model2.feature_importances_, predictors).sort_values(ascending=False)\n",
    "feat_imp.plot(kind='bar', title='Importance of Features')\n",
    "plt.ylabel('Feature Importance Score')\n",
    "print_score(model2)\n",
    "pred=model2.predict(scaler.transform(X_valid))\n",
    "print(classification_report(y_valid, pred))"
   ]
  },
  {
   "cell_type": "code",
   "execution_count": 104,
   "metadata": {
    "scrolled": true
   },
   "outputs": [
    {
     "name": "stdout",
     "output_type": "stream",
     "text": [
      "<class 'pandas.core.frame.DataFrame'>\n",
      "RangeIndex: 23490 entries, 0 to 23489\n",
      "Data columns (total 31 columns):\n",
      " #   Column                  Non-Null Count  Dtype  \n",
      "---  ------                  --------------  -----  \n",
      " 0   employee_id             23490 non-null  int64  \n",
      " 1   department              23490 non-null  object \n",
      " 2   region_0                23490 non-null  int64  \n",
      " 3   region_1                23490 non-null  int64  \n",
      " 4   region_2                23490 non-null  int64  \n",
      " 5   region_3                23490 non-null  int64  \n",
      " 6   region_4                23490 non-null  int64  \n",
      " 7   region_5                23490 non-null  int64  \n",
      " 8   region_6                23490 non-null  int64  \n",
      " 9   education               23490 non-null  object \n",
      " 10  gender                  23490 non-null  object \n",
      " 11  recruitment_channel     23490 non-null  object \n",
      " 12  no_of_trainings         23490 non-null  int64  \n",
      " 13  age                     23490 non-null  int64  \n",
      " 14  previous_year_rating    23490 non-null  float64\n",
      " 15  length_of_service       23490 non-null  int64  \n",
      " 16  KPIs_met >80%           23490 non-null  int64  \n",
      " 17  awards_won?             23490 non-null  int64  \n",
      " 18  avg_training_score      23490 non-null  int64  \n",
      " 19  avg_score               23490 non-null  float64\n",
      " 20  depa_Finance            23490 non-null  uint8  \n",
      " 21  depa_HR                 23490 non-null  uint8  \n",
      " 22  depa_Legal              23490 non-null  uint8  \n",
      " 23  depa_Operations         23490 non-null  uint8  \n",
      " 24  depa_Procurement        23490 non-null  uint8  \n",
      " 25  depa_R&D                23490 non-null  uint8  \n",
      " 26  depa_Sales & Marketing  23490 non-null  uint8  \n",
      " 27  depa_Technology         23490 non-null  uint8  \n",
      " 28  edu_Below Secondary     23490 non-null  uint8  \n",
      " 29  edu_Master's & above    23490 non-null  uint8  \n",
      " 30  gend_m                  23490 non-null  uint8  \n",
      "dtypes: float64(2), int64(14), object(4), uint8(11)\n",
      "memory usage: 3.8+ MB\n"
     ]
    }
   ],
   "source": [
    "test = pd.read_csv('test_2umaH9m.csv')\n",
    "test.education.fillna(\"Bachelor's\",inplace = True)\n",
    "test.previous_year_rating.fillna(0,inplace = True)\n",
    "#test.info()\n",
    "# 'con_2_cat(test)\n",
    "# for label,content in test.items():\n",
    "#     numericalize(test,content,label)'\n",
    "#test.info()\n",
    "#test['imp_sum'] = test['awards_won?'] + test['KPIs_met >80%'] +test.previous_year_rating\n",
    "#test['training_hours'] = test.no_of_trainings * test.avg_training_score\n",
    "#test['age_joined'] = test.age - test.length_of_service\n",
    "avg_score = test.groupby(['department','region'])['avg_training_score'].transform('mean')\n",
    "avg_score = avg_score/avg_score.mean()\n",
    "test['avg_score'] = avg_score\n",
    "\n",
    "depart_t =  pd.get_dummies(test.department,prefix = 'depa',drop_first = True)\n",
    "be = BinaryEncoder(cols = 'region')\n",
    "test = be.fit_transform(test)\n",
    "\n",
    "edu = pd.get_dummies(test.education,prefix = 'edu',drop_first = True)\n",
    "gend = pd.get_dummies(test.gender,prefix = 'gend',drop_first = True)\n",
    "\n",
    "test_x = pd.concat([test,depart_t,edu,gend],axis = 1)\n",
    "\n",
    "test_x.info()"
   ]
  },
  {
   "cell_type": "code",
   "execution_count": 105,
   "metadata": {
    "scrolled": true
   },
   "outputs": [
    {
     "name": "stdout",
     "output_type": "stream",
     "text": [
      "<class 'pandas.core.frame.DataFrame'>\n",
      "RangeIndex: 23490 entries, 0 to 23489\n",
      "Data columns (total 27 columns):\n",
      " #   Column                  Non-Null Count  Dtype  \n",
      "---  ------                  --------------  -----  \n",
      " 0   employee_id             23490 non-null  int64  \n",
      " 1   region_0                23490 non-null  int64  \n",
      " 2   region_1                23490 non-null  int64  \n",
      " 3   region_2                23490 non-null  int64  \n",
      " 4   region_3                23490 non-null  int64  \n",
      " 5   region_4                23490 non-null  int64  \n",
      " 6   region_5                23490 non-null  int64  \n",
      " 7   region_6                23490 non-null  int64  \n",
      " 8   no_of_trainings         23490 non-null  int64  \n",
      " 9   age                     23490 non-null  int64  \n",
      " 10  previous_year_rating    23490 non-null  float64\n",
      " 11  length_of_service       23490 non-null  int64  \n",
      " 12  KPIs_met >80%           23490 non-null  int64  \n",
      " 13  awards_won?             23490 non-null  int64  \n",
      " 14  avg_training_score      23490 non-null  int64  \n",
      " 15  avg_score               23490 non-null  float64\n",
      " 16  depa_Finance            23490 non-null  uint8  \n",
      " 17  depa_HR                 23490 non-null  uint8  \n",
      " 18  depa_Legal              23490 non-null  uint8  \n",
      " 19  depa_Operations         23490 non-null  uint8  \n",
      " 20  depa_Procurement        23490 non-null  uint8  \n",
      " 21  depa_R&D                23490 non-null  uint8  \n",
      " 22  depa_Sales & Marketing  23490 non-null  uint8  \n",
      " 23  depa_Technology         23490 non-null  uint8  \n",
      " 24  edu_Below Secondary     23490 non-null  uint8  \n",
      " 25  edu_Master's & above    23490 non-null  uint8  \n",
      " 26  gend_m                  23490 non-null  uint8  \n",
      "dtypes: float64(2), int64(14), uint8(11)\n",
      "memory usage: 3.1 MB\n",
      "<class 'pandas.core.frame.DataFrame'>\n",
      "RangeIndex: 54808 entries, 0 to 54807\n",
      "Data columns (total 28 columns):\n",
      " #   Column                  Non-Null Count  Dtype  \n",
      "---  ------                  --------------  -----  \n",
      " 0   employee_id             54808 non-null  int64  \n",
      " 1   region_0                54808 non-null  int64  \n",
      " 2   region_1                54808 non-null  int64  \n",
      " 3   region_2                54808 non-null  int64  \n",
      " 4   region_3                54808 non-null  int64  \n",
      " 5   region_4                54808 non-null  int64  \n",
      " 6   region_5                54808 non-null  int64  \n",
      " 7   region_6                54808 non-null  int64  \n",
      " 8   no_of_trainings         54808 non-null  int64  \n",
      " 9   age                     54808 non-null  int64  \n",
      " 10  previous_year_rating    54808 non-null  float64\n",
      " 11  length_of_service       54808 non-null  int64  \n",
      " 12  KPIs_met >80%           54808 non-null  int64  \n",
      " 13  awards_won?             54808 non-null  int64  \n",
      " 14  avg_training_score      54808 non-null  int64  \n",
      " 15  is_promoted             54808 non-null  int64  \n",
      " 16  avg_score               54808 non-null  float64\n",
      " 17  depa_Finance            54808 non-null  uint8  \n",
      " 18  depa_HR                 54808 non-null  uint8  \n",
      " 19  depa_Legal              54808 non-null  uint8  \n",
      " 20  depa_Operations         54808 non-null  uint8  \n",
      " 21  depa_Procurement        54808 non-null  uint8  \n",
      " 22  depa_R&D                54808 non-null  uint8  \n",
      " 23  depa_Sales & Marketing  54808 non-null  uint8  \n",
      " 24  depa_Technology         54808 non-null  uint8  \n",
      " 25  edu_Below Secondary     54808 non-null  uint8  \n",
      " 26  edu_Master's & above    54808 non-null  uint8  \n",
      " 27  gend_m                  54808 non-null  uint8  \n",
      "dtypes: float64(2), int64(15), uint8(11)\n",
      "memory usage: 7.7 MB\n"
     ]
    },
    {
     "data": {
      "text/plain": [
       "(None, None)"
      ]
     },
     "execution_count": 105,
     "metadata": {},
     "output_type": "execute_result"
    }
   ],
   "source": [
    "test_x.drop(['department','education','gender','recruitment_channel'],axis = 1,inplace = True)\n",
    "test_x.info(),train_x.info()"
   ]
  },
  {
   "cell_type": "code",
   "execution_count": 91,
   "metadata": {},
   "outputs": [
    {
     "data": {
      "text/plain": [
       "(36721, 27)"
      ]
     },
     "execution_count": 91,
     "metadata": {},
     "output_type": "execute_result"
    }
   ],
   "source": [
    "df_sc.shape"
   ]
  },
  {
   "cell_type": "code",
   "execution_count": 106,
   "metadata": {},
   "outputs": [
    {
     "data": {
      "text/plain": [
       "0         8724\n",
       "1        74430\n",
       "2        72255\n",
       "3        38562\n",
       "4        64486\n",
       "         ...  \n",
       "23485    53478\n",
       "23486    25600\n",
       "23487    45409\n",
       "23488     1186\n",
       "23489     5973\n",
       "Name: employee_id, Length: 23490, dtype: int32"
      ]
     },
     "execution_count": 106,
     "metadata": {},
     "output_type": "execute_result"
    }
   ],
   "source": [
    "test_x.employee_id.astype(int)"
   ]
  },
  {
   "cell_type": "code",
   "execution_count": 118,
   "metadata": {},
   "outputs": [],
   "source": [
    "test_sc = scaler.transform(test_x.drop('region_0',axis = 1))\n",
    "\n",
    "\n",
    "test_result = pd.DataFrame({'employee_id':test_x.employee_id.astype(int),\n",
    "                           'is_promoted':model2.predict(test_sc)})\n"
   ]
  },
  {
   "cell_type": "code",
   "execution_count": 119,
   "metadata": {},
   "outputs": [
    {
     "data": {
      "text/html": [
       "<div>\n",
       "<style scoped>\n",
       "    .dataframe tbody tr th:only-of-type {\n",
       "        vertical-align: middle;\n",
       "    }\n",
       "\n",
       "    .dataframe tbody tr th {\n",
       "        vertical-align: top;\n",
       "    }\n",
       "\n",
       "    .dataframe thead th {\n",
       "        text-align: right;\n",
       "    }\n",
       "</style>\n",
       "<table border=\"1\" class=\"dataframe\">\n",
       "  <thead>\n",
       "    <tr style=\"text-align: right;\">\n",
       "      <th></th>\n",
       "      <th>is_promoted</th>\n",
       "    </tr>\n",
       "    <tr>\n",
       "      <th>employee_id</th>\n",
       "      <th></th>\n",
       "    </tr>\n",
       "  </thead>\n",
       "  <tbody>\n",
       "    <tr>\n",
       "      <th>8724</th>\n",
       "      <td>0</td>\n",
       "    </tr>\n",
       "    <tr>\n",
       "      <th>74430</th>\n",
       "      <td>0</td>\n",
       "    </tr>\n",
       "    <tr>\n",
       "      <th>72255</th>\n",
       "      <td>0</td>\n",
       "    </tr>\n",
       "    <tr>\n",
       "      <th>38562</th>\n",
       "      <td>0</td>\n",
       "    </tr>\n",
       "    <tr>\n",
       "      <th>64486</th>\n",
       "      <td>0</td>\n",
       "    </tr>\n",
       "  </tbody>\n",
       "</table>\n",
       "</div>"
      ],
      "text/plain": [
       "             is_promoted\n",
       "employee_id             \n",
       "8724                   0\n",
       "74430                  0\n",
       "72255                  0\n",
       "38562                  0\n",
       "64486                  0"
      ]
     },
     "execution_count": 119,
     "metadata": {},
     "output_type": "execute_result"
    }
   ],
   "source": [
    "test_result.set_index('employee_id',inplace = True)\n",
    "\n",
    "test_result.head()"
   ]
  },
  {
   "cell_type": "code",
   "execution_count": 120,
   "metadata": {},
   "outputs": [
    {
     "data": {
      "text/plain": [
       "0    22727\n",
       "1      763\n",
       "Name: is_promoted, dtype: int64"
      ]
     },
     "execution_count": 120,
     "metadata": {},
     "output_type": "execute_result"
    }
   ],
   "source": [
    "test_result.is_promoted.value_counts()"
   ]
  },
  {
   "cell_type": "code",
   "execution_count": 121,
   "metadata": {},
   "outputs": [],
   "source": [
    "test_result.to_csv('second_25.csv')"
   ]
  },
  {
   "cell_type": "code",
   "execution_count": null,
   "metadata": {},
   "outputs": [],
   "source": []
  }
 ],
 "metadata": {
  "kernelspec": {
   "display_name": "Python (tensorflow2)",
   "language": "python",
   "name": "tensorflow2"
  },
  "language_info": {
   "codemirror_mode": {
    "name": "ipython",
    "version": 3
   },
   "file_extension": ".py",
   "mimetype": "text/x-python",
   "name": "python",
   "nbconvert_exporter": "python",
   "pygments_lexer": "ipython3",
   "version": "3.7.6"
  }
 },
 "nbformat": 4,
 "nbformat_minor": 2
}
